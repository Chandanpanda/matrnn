{
 "cells": [
  {
   "cell_type": "code",
   "execution_count": 1,
   "metadata": {},
   "outputs": [
    {
     "name": "stdout",
     "output_type": "stream",
     "text": [
      "/Users/tianlechen/Documents/GitHub/Togepi/tianle-rxplenishment/gru_arrivaltimes/run_crusoely/blagdon_sodapop_jointwrfm\n"
     ]
    }
   ],
   "source": [
    "import gzip\n",
    "import pickle\n",
    "\n",
    "import numpy as np\n",
    "import pandas as pd\n",
    "import psycopg2 as pg\n",
    "\n",
    "pklhp = pickle.HIGHEST_PROTOCOL\n",
    "\n",
    "import os\n",
    "cwd = os.getcwd()\n",
    "print (cwd)"
   ]
  },
  {
   "cell_type": "code",
   "execution_count": 2,
   "metadata": {
    "collapsed": true
   },
   "outputs": [],
   "source": [
    "testing = True"
   ]
  },
  {
   "cell_type": "markdown",
   "metadata": {},
   "source": [
    "# Source transactions of interest"
   ]
  },
  {
   "cell_type": "code",
   "execution_count": 3,
   "metadata": {},
   "outputs": [
    {
     "name": "stdout",
     "output_type": "stream",
     "text": [
      "skusfname: sodapopskus.txt\n",
      "timeunit: week\n",
      "      custid  ordqty  product_sku                date\n",
      "0  9623203.0     2.0      10201.0 2013-02-09 20:20:47\n",
      "1  9475196.0     1.0      10201.0 2013-01-08 14:16:45\n",
      "2   524466.0     1.0      10201.0 2013-01-08 13:39:34\n",
      "3  7646254.0     2.0      10201.0 2013-03-05 17:13:34\n",
      "4  9074093.0     1.0      10201.0 2014-06-04 13:39:00\n"
     ]
    }
   ],
   "source": [
    "import funforsql as ffs\n",
    "alltrans = ffs.gettransactions()\n",
    "if testing: print (alltrans.head(5))"
   ]
  },
  {
   "cell_type": "code",
   "execution_count": 4,
   "metadata": {},
   "outputs": [
    {
     "name": "stdout",
     "output_type": "stream",
     "text": [
      "tstart:\t2014-01-01 00:00:00\n",
      "ttrain:\t2015-06-30 00:00:00\n",
      "tend:\t2016-12-31 00:00:00\n"
     ]
    }
   ],
   "source": [
    "d = pickle.load(gzip.open('dates.pkl' + str(pklhp), 'rb'))\n",
    "if testing: \n",
    "    for k in d:\n",
    "        print ('%s:\\t%s' % (k, d[k]))"
   ]
  },
  {
   "cell_type": "code",
   "execution_count": 5,
   "metadata": {
    "collapsed": true
   },
   "outputs": [],
   "source": [
    "intraining = alltrans['date'] >= d['tstart']\n",
    "intraining = np.logical_and(intraining, alltrans['date'] <= d['tend'])\n",
    "alltrans = alltrans.loc[intraining, :]"
   ]
  },
  {
   "cell_type": "code",
   "execution_count": 6,
   "metadata": {},
   "outputs": [
    {
     "name": "stdout",
     "output_type": "stream",
     "text": [
      "len alltrans 2042361\n"
     ]
    }
   ],
   "source": [
    "if testing: print ('len alltrans', len(alltrans))"
   ]
  },
  {
   "cell_type": "code",
   "execution_count": 7,
   "metadata": {},
   "outputs": [
    {
     "name": "stdout",
     "output_type": "stream",
     "text": [
      "            custid  ordqty  product_sku                date\n",
      "40776    9314863.0     1.0      64330.0 2014-01-01 09:21:16\n",
      "58099   12698719.0     2.0     181042.0 2014-01-01 09:29:13\n",
      "792836   8367321.0     2.0      83092.0 2014-01-01 09:52:32\n",
      "61724   11020411.0     4.0     140363.0 2014-01-01 10:10:41\n",
      "62444   10199683.0     1.0     140363.0 2014-01-01 10:14:52\n"
     ]
    }
   ],
   "source": [
    "if testing: print (alltrans.sort_values(by = 'date').head(5))"
   ]
  },
  {
   "cell_type": "markdown",
   "metadata": {},
   "source": [
    "# Set up some global parameters"
   ]
  },
  {
   "cell_type": "code",
   "execution_count": 8,
   "metadata": {
    "collapsed": true
   },
   "outputs": [],
   "source": [
    "def datestrrep(dt):\n",
    "    return str(dt.strftime('%Y-%m-%d'))"
   ]
  },
  {
   "cell_type": "code",
   "execution_count": 9,
   "metadata": {},
   "outputs": [
    {
     "name": "stdout",
     "output_type": "stream",
     "text": [
      "len unique allcids 596811\n"
     ]
    }
   ],
   "source": [
    "allcids = np.unique(np.array(alltrans['custid']))\n",
    "if testing: print ('len unique allcids', len(allcids))"
   ]
  },
  {
   "cell_type": "code",
   "execution_count": 10,
   "metadata": {},
   "outputs": [
    {
     "name": "stdout",
     "output_type": "stream",
     "text": [
      "[  10201.   37852.   64330.   83092.  120768.  137538.  140363.  181042.]\n",
      "len(allskus): 8\n"
     ]
    }
   ],
   "source": [
    "allskus = np.sort(np.unique(np.array(alltrans.loc[:, 'product_sku'])))\n",
    "if testing: print (allskus); print('len(allskus):', len(allskus))"
   ]
  },
  {
   "cell_type": "code",
   "execution_count": 11,
   "metadata": {},
   "outputs": [
    {
     "name": "stdout",
     "output_type": "stream",
     "text": [
      "len alltimes 1096\n"
     ]
    }
   ],
   "source": [
    "alltimes = pd.date_range(d['tstart'], d['tend'])\n",
    "if testing: print ('len alltimes', len(alltimes))"
   ]
  },
  {
   "cell_type": "markdown",
   "metadata": {},
   "source": [
    "# Source an rfm file"
   ]
  },
  {
   "cell_type": "code",
   "execution_count": 12,
   "metadata": {
    "collapsed": true
   },
   "outputs": [],
   "source": [
    "def getrfm(valdate, verbose = False):\n",
    "    fname = cwd + '/rfmcache/rfm_valdate_%s.pkl2' % str(datestrrep(valdate))\n",
    "    if verbose: import time; t0 = time.time()\n",
    "    if pklhp == 2:\n",
    "        out = pickle.load(gzip.open(fname, 'rb'))\n",
    "    else:\n",
    "        out = pickle.load(gzip.open(fname, 'rb'), encoding = 'latin1')\n",
    "    if verbose: print ('loading took', time.time()-t0)\n",
    "    return out"
   ]
  },
  {
   "cell_type": "code",
   "execution_count": 13,
   "metadata": {
    "scrolled": false
   },
   "outputs": [
    {
     "name": "stdout",
     "output_type": "stream",
     "text": [
      "len x: 10\n"
     ]
    }
   ],
   "source": [
    "if testing:\n",
    "    x = getrfm(alltimes[0])\n",
    "    print ('len x:', len(x))"
   ]
  },
  {
   "cell_type": "markdown",
   "metadata": {},
   "source": [
    "## Set up target cids, times, skus"
   ]
  },
  {
   "cell_type": "code",
   "execution_count": 14,
   "metadata": {},
   "outputs": [
    {
     "name": "stdout",
     "output_type": "stream",
     "text": [
      "10\n"
     ]
    }
   ],
   "source": [
    "tgtcids = allcids\n",
    "if testing: \n",
    "    tgtcids = allcids[:10]\n",
    "    print (len(tgtcids))"
   ]
  },
  {
   "cell_type": "code",
   "execution_count": 15,
   "metadata": {},
   "outputs": [
    {
     "name": "stdout",
     "output_type": "stream",
     "text": [
      "100\n"
     ]
    }
   ],
   "source": [
    "tgttimes = alltimes\n",
    "if testing: \n",
    "    tgttimes = alltimes[:100]\n",
    "    print (len(tgttimes))"
   ]
  },
  {
   "cell_type": "code",
   "execution_count": 16,
   "metadata": {},
   "outputs": [
    {
     "name": "stdout",
     "output_type": "stream",
     "text": [
      "[ 10201.  37852.]\n"
     ]
    }
   ],
   "source": [
    "tgtskus = allskus\n",
    "if testing:\n",
    "    tgtskus = allskus[:2]\n",
    "    print (tgtskus)"
   ]
  },
  {
   "cell_type": "markdown",
   "metadata": {},
   "source": [
    "## Try to get all covariates for tgtcids, tgtskus, tgttimes\n",
    "\n",
    "data matrix is of shape:\n",
    "```\n",
    "len(tgtcids) BY len(tgtskus) BY len(tgttimes) BY 13\n",
    "```\n",
    "\n",
    "since there are 13 covariates:\n",
    "```\n",
    "(tse, tte, unc, pcs), 3*(rfmall, rfmcat, rfmthis)\n",
    "```"
   ]
  },
  {
   "cell_type": "code",
   "execution_count": 17,
   "metadata": {
    "collapsed": true
   },
   "outputs": [],
   "source": [
    "import TimeSeriesTransforms as tstf\n",
    "\n",
    "def formattedrow_tstf(cidtemp, skutemp, tgttimes, verbose = False):\n",
    "    '''\n",
    "    returns np.array of shape (len(tgttimes), 4)\n",
    "    where 4 = #(tse,tte,unc,pcs)\n",
    "    '''\n",
    "    if verbose: import time\n",
    "    \n",
    "    skuindex = int(np.where(allskus == skutemp)[0])\n",
    "    \n",
    "    if verbose: t0 = time.time()\n",
    "    # get event indicator for cidtemp, skutemp\n",
    "    evtind = alltrans['custid'] == cidtemp\n",
    "    evtind = np.logical_and(evtind, alltrans['product_sku'] == skutemp)\n",
    "    # event times as number of days from (origin = min(tgttimes))\n",
    "    evt = np.sort(np.array((alltrans.loc[evtind, 'date'] - min(tgttimes)).dt.days))\n",
    "    evt = evt[evt < len(tgttimes)]\n",
    "\n",
    "    # default is uncensored=False, purchstatus=False, eventindicator=False\n",
    "    evind = np.zeros(len(tgttimes))\n",
    "    unc   = np.zeros(len(tgttimes))\n",
    "    pcs   = np.zeros(len(tgttimes))\n",
    "    # if there has been an event...\n",
    "    if len(evt) > 0:\n",
    "        evind[evt] = 1\n",
    "        unc[:max(evt)] = 1\n",
    "        pcs[min(evt):] = 1\n",
    "    # transform to get tse, tte\n",
    "    tse = tstf.tse(evind); tte = tstf.tte(evind)\n",
    "    # reshape so that is of shape (len(tgttimes), 1)\n",
    "    tse = tse.reshape((len(tgttimes), 1))\n",
    "    tte = tte.reshape((len(tgttimes), 1))\n",
    "    unc = unc.reshape((len(tgttimes), 1))\n",
    "    pcs = pcs.reshape((len(tgttimes), 1))\n",
    "    if verbose: t1 = time.time(); print('(tse, tte, unc, pcs) done in:', t1-t0); t0 = t1\n",
    "    \n",
    "    return np.concatenate((tse, tte, unc, pcs), axis = 1)"
   ]
  },
  {
   "cell_type": "code",
   "execution_count": 18,
   "metadata": {
    "collapsed": true
   },
   "outputs": [],
   "source": [
    "def formattedrow_allskus(cidtemp, tgtskus, tgttimes, verbose = False):\n",
    "    '''\n",
    "    return long version of formattedrow, done for all in tgtskus\n",
    "    '''\n",
    "    longshape = (1, 1, len(tgttimes), 4)\n",
    "    def worker(skutemp): \n",
    "        out = formattedrow_tstf(cidtemp, skutemp, tgttimes, verbose = verbose)\n",
    "        return out.reshape(longshape)\n",
    "        \n",
    "    return np.concatenate([worker(k) for k in tgtskus], axis = 1)"
   ]
  },
  {
   "cell_type": "code",
   "execution_count": 19,
   "metadata": {
    "collapsed": true
   },
   "outputs": [],
   "source": [
    "def getrfm_matrix(tgtcids, rfmtemp, verbose = False):\n",
    "    '''\n",
    "    return (len(tgtcids), 3)\n",
    "    where #(r, f, m) = 3\n",
    "    '''\n",
    "    out = np.zeros((len(tgtcids), 3))\n",
    "    if verbose: import time; t0 = time.time()\n",
    "    for i in range(len(tgtcids)):\n",
    "        cidtemp = tgtcids[i]\n",
    "        cidind = rfmtemp['custid'] == cidtemp\n",
    "        if np.any(cidind):\n",
    "            out[i, :] = np.array(rfmtemp.loc[cidind, ['r', 'f', 'm']]).reshape((1, 3))\n",
    "    if verbose: print ('took:', time.time()-t0)\n",
    "    return out"
   ]
  },
  {
   "cell_type": "code",
   "execution_count": 20,
   "metadata": {
    "collapsed": true
   },
   "outputs": [],
   "source": [
    "def getrfm_singletime(valdate, tgtcids, tgtskus, verbose = False):\n",
    "    '''\n",
    "    return (len(tgtcids), len(tgtskus), 9)\n",
    "    where #(r, f, m) * #(rfmall, rfmcat, rfmthis) = 9\n",
    "    '''\n",
    "    x = getrfm(valdate, verbose = verbose)\n",
    "    if verbose: import time; print ('x shape')\n",
    "    # dissect the loaded file...\n",
    "    rfmall = x[0]\n",
    "    rfmcat = x[1]\n",
    "    # get indices for tgtskus...\n",
    "    tgtskusindices = np.where(np.in1d(allskus, tgtskus))[0]\n",
    "    \n",
    "    out = np.zeros((len(tgtcids), len(tgtskus), 3, 3))\n",
    "    rfmmall = getrfm_matrix(tgtcids, rfmall, verbose = verbose)\n",
    "    rfmmcat = getrfm_matrix(tgtcids, rfmcat, verbose = verbose)\n",
    "    \n",
    "    if verbose: t0 = time.time()\n",
    "    for k in range(len(tgtskus)):\n",
    "        out[:,k,0,:] = rfmmall\n",
    "        out[:,k,1,:] = rfmmcat\n",
    "        out[:,k,2,:] = getrfm_matrix(tgtcids, x[2+tgtskusindices[k]], verbose = verbose)\n",
    "    if verbose: print ('took:', time.time()-t0)\n",
    "    \n",
    "    return out.reshape((len(tgtcids), len(tgtskus), 1, 9))"
   ]
  },
  {
   "cell_type": "markdown",
   "metadata": {},
   "source": [
    "## Aggregator"
   ]
  },
  {
   "cell_type": "code",
   "execution_count": 21,
   "metadata": {
    "collapsed": true
   },
   "outputs": [],
   "source": [
    "def getdata(tgtcids, tgtskus, tgttimes, verbose = False):\n",
    "    '''\n",
    "    return array of shape (len(tgtcids), len(tgtskus), len(tgttimes), 13)\n",
    "    where #(tse,tte,unc,pcs) + #(r, f, m) * #(rfmall, rfmcat, rfmthis) = 13\n",
    "    '''\n",
    "    \n",
    "    outshape = (len(tgtcids), len(tgtskus), len(tgttimes), 13)\n",
    "    if verbose:\n",
    "        import time\n",
    "        t0 = time.time()\n",
    "        print ('outshape', outshape)\n",
    "        print ('max size in MB:', 32*np.prod(outshape)/np.power(10,6))\n",
    "    \n",
    "    resl_tstf = list(map(lambda x: formattedrow_allskus(x, tgtskus, tgttimes), tgtcids))\n",
    "    data_tstf = np.concatenate(resl_tstf, axis = 0)\n",
    "    if verbose: t1 = time.time(); print('tstf took', t1-t0); t0 = t1\n",
    "    \n",
    "    resl_rfm = list(map(lambda x: getrfm_singletime(x, tgtcids, tgtskus), tgttimes))\n",
    "    data_rfm = np.concatenate(resl_rfm, axis = 2)\n",
    "    if verbose: t1 = time.time(); print('rfm took', t1-t0); t0 = t1\n",
    "    \n",
    "    return np.concatenate((data_tstf, data_rfm), axis = 3)"
   ]
  },
  {
   "cell_type": "markdown",
   "metadata": {},
   "source": [
    "## Testing..."
   ]
  },
  {
   "cell_type": "code",
   "execution_count": 22,
   "metadata": {
    "collapsed": true
   },
   "outputs": [],
   "source": [
    "# data = getdata(tgtcids, tgtskus, tgttimes, verbose = True)\n",
    "# print (data.shape)"
   ]
  },
  {
   "cell_type": "code",
   "execution_count": 23,
   "metadata": {
    "collapsed": true
   },
   "outputs": [],
   "source": [
    "batchsize = 1000\n",
    "if testing: batchsize = 5"
   ]
  },
  {
   "cell_type": "code",
   "execution_count": 24,
   "metadata": {},
   "outputs": [
    {
     "name": "stdout",
     "output_type": "stream",
     "text": [
      "len split: 2\n"
     ]
    }
   ],
   "source": [
    "tgtcids_split = np.array_split(tgtcids, int(len(tgtcids)/batchsize))\n",
    "if testing: print ('len split:', len(tgtcids_split))"
   ]
  },
  {
   "cell_type": "code",
   "execution_count": 35,
   "metadata": {
    "collapsed": true
   },
   "outputs": [],
   "source": [
    "def worker(batchno):\n",
    "    fname = '%s/cache/%s.pkl%s' % (cwd, batchno, pklhp)\n",
    "    import time\n",
    "    t0 = time.time()\n",
    "    print ('batchno:', batchno)\n",
    "    out = getdata(tgtcids_split[batchno], tgtskus, tgttimes)\n",
    "    pickle.dump(out, gzip.open(fname, 'wb'), -1)\n",
    "    print ('batchno:%s took:%s' % (batchno, time.time()-t0))\n",
    "    return fname"
   ]
  },
  {
   "cell_type": "code",
   "execution_count": 36,
   "metadata": {
    "collapsed": true
   },
   "outputs": [],
   "source": [
    "from multiprocessing import Pool\n",
    "\n",
    "nthreads = 24\n",
    "if testing: nthreads = 2"
   ]
  },
  {
   "cell_type": "code",
   "execution_count": 37,
   "metadata": {},
   "outputs": [
    {
     "name": "stdout",
     "output_type": "stream",
     "text": [
      "batchno: 0\n",
      "batchno: 1\n",
      "batchno:1 took:48.653870820999146\n",
      "batchno:0 took:48.83422780036926\n",
      "done in: 48.83882117271423\n"
     ]
    }
   ],
   "source": [
    "p = Pool(nthreads)\n",
    "if testing: import time; t0 = time.time()\n",
    "resl = p.map(worker, np.arange(len(tgtcids_split)))\n",
    "if testing: t1=time.time(); print('done in:', t1-t0); t0 = t1"
   ]
  },
  {
   "cell_type": "code",
   "execution_count": null,
   "metadata": {
    "collapsed": true
   },
   "outputs": [],
   "source": []
  }
 ],
 "metadata": {
  "kernelspec": {
   "display_name": "Python 3",
   "language": "python",
   "name": "python3"
  },
  "language_info": {
   "codemirror_mode": {
    "name": "ipython",
    "version": 3
   },
   "file_extension": ".py",
   "mimetype": "text/x-python",
   "name": "python",
   "nbconvert_exporter": "python",
   "pygments_lexer": "ipython3",
   "version": "3.6.1"
  }
 },
 "nbformat": 4,
 "nbformat_minor": 2
}
