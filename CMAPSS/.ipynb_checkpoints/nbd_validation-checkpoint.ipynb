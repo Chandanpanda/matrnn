{
 "cells": [
  {
   "cell_type": "markdown",
   "metadata": {},
   "source": [
    "# Import modules and define parameters"
   ]
  },
  {
   "cell_type": "code",
   "execution_count": 1,
   "metadata": {},
   "outputs": [
    {
     "name": "stderr",
     "output_type": "stream",
     "text": [
      "Using TensorFlow backend.\n"
     ]
    }
   ],
   "source": [
    "%load_ext autoreload\n",
    "\n",
    "import time\n",
    "import os\n",
    "import pickle\n",
    "import platform\n",
    "import numpy as np\n",
    "import pandas as pd\n",
    "\n",
    "# general keras stuff\n",
    "## will require h5py\n",
    "import keras \n",
    "from keras.optimizers import adam, RMSprop\n",
    "from keras.models import Sequential\n",
    "## layer stacking\n",
    "from keras.layers import Dense, LSTM, Lambda\n",
    "from keras.layers.core import Masking, Reshape\n",
    "## for Sequential data dense layer...\n",
    "from keras.layers.wrappers import TimeDistributed\n",
    "## callbacks\n",
    "from keras.callbacks import EarlyStopping\n",
    "\n",
    "\n",
    "# personal modules\n",
    "\n",
    "## weibull stuff \n",
    "import wbce_objective as obj\n",
    "import wbce_distributional as dist\n",
    "\n",
    "## sourcing data (require psycopg2)\n",
    "import funforsql_blagdon as ffs \n",
    "\n",
    "## import data generator and formatter\n",
    "import formatfortrain as fft\n",
    "from ginny import FormatTransactions \n",
    "\n",
    "## some custom keras callbacks\n",
    "from kcallbacks import SaveValidWeights, TacticalRetreat\n",
    "\n",
    "pklhp = pickle.HIGHEST_PROTOCOL"
   ]
  },
  {
   "cell_type": "code",
   "execution_count": 2,
   "metadata": {
    "collapsed": true
   },
   "outputs": [],
   "source": [
    "# meta settings\n",
    "#workers = 4\n",
    "batch_size = 6*4096\n",
    "#epochs = 1\n",
    "#timeunit = 'week' # valid choices: day, week, month, quarter\n",
    "incl_alltrans_percust = False\n",
    "\n",
    "# names and stuff\n",
    "#purpose = 'gprun'\n",
    "device = open('_devicename_.txt').readline()\n",
    "#modelspec_fname = 'spec05.py'\n",
    "\n",
    "# db name\n",
    "skusfname = 'sodapopskus.txt'\n",
    "dbid = skusfname"
   ]
  },
  {
   "cell_type": "code",
   "execution_count": 3,
   "metadata": {
    "collapsed": true
   },
   "outputs": [],
   "source": [
    "nprods = 4"
   ]
  },
  {
   "cell_type": "markdown",
   "metadata": {},
   "source": [
    "# Load Data at Transaction Level..."
   ]
  },
  {
   "cell_type": "code",
   "execution_count": 4,
   "metadata": {},
   "outputs": [
    {
     "data": {
      "image/png": "[encoded data removed]",
      "text/plain": [
       "<matplotlib.figure.Figure at 0x1143d9dd8>"
      ]
     },
     "metadata": {},
     "output_type": "display_data"
    },
    {
     "name": "stdout",
     "output_type": "stream",
     "text": [
      "com:0, split:124, fin:249\n"
     ]
    }
   ],
   "source": [
    "transactions = ffs.gettransactions_cached(skusfname, \n",
    "                                          timeunit='week', \n",
    "                                          incl_alltrans_percust=incl_alltrans_percust)\n",
    "\n",
    "if device == 'macbookpro':\n",
    "    import matplotlib.pyplot as plt\n",
    "    def get_date_counts(obj):\n",
    "        orddate, subset = obj\n",
    "        return (orddate, len(subset))    \n",
    "    groupedby_orddate = transactions.groupby('orddate_index')\n",
    "    transactions_perorddate = np.array(list(map(get_date_counts, list(groupedby_orddate))))\n",
    "    plt.plot(transactions_perorddate[:,0], transactions_perorddate[:,1])\n",
    "    plt.show()\n",
    "\n",
    "discardfirst = 250\n",
    "dates = transactions.loc[:, 'orddate_index']\n",
    "dates = dates - discardfirst\n",
    "transactions.loc[:, 'orddate_index'] = dates\n",
    "transactions = transactions.loc[dates>=0,:]\n",
    "\n",
    "com, split, fin = ffs.gettimes(transactions)\n",
    "print ('com:%i, split:%i, fin:%i' % (com, split, fin))\n",
    "\n",
    "transtrain = ffs.getdf_intimerange(transactions, com, split)\n",
    "#print (transtrain.head(100))\n",
    "\n",
    "uniqueskus = np.sort(np.unique(transtrain.loc[:, 'product_sku']))"
   ]
  },
  {
   "cell_type": "code",
   "execution_count": 5,
   "metadata": {},
   "outputs": [
    {
     "name": "stdout",
     "output_type": "stream",
     "text": [
      "          custid ordqty  product_sku  orddate_index\n",
      "51741  7113969.0      1      83092.0             53\n",
      "51846   605598.0      1     137538.0             53\n",
      "52959   605598.0      1     137538.0             53\n",
      "52960   605598.0      1     137538.0             53\n",
      "52961   605598.0      1     137538.0             53\n",
      "52962   605598.0      1     137538.0             53\n",
      "52963   605598.0      1     137538.0             53\n",
      "52967  6539621.0      1     140363.0             57\n",
      "52968  6539621.0      1     140363.0             57\n",
      "52969  6539621.0      1     140363.0             57\n"
     ]
    }
   ],
   "source": [
    "print (transtrain.head(10))"
   ]
  },
  {
   "cell_type": "markdown",
   "metadata": {},
   "source": [
    "## Load Predictions"
   ]
  },
  {
   "cell_type": "code",
   "execution_count": 6,
   "metadata": {
    "collapsed": true
   },
   "outputs": [],
   "source": [
    "import gzip\n",
    "predictions = [None]*nprods\n",
    "for skudex in range(nprods):\n",
    "    predictions[skudex] = pickle.load(gzip.open('nbd_sku%s_eval.pkl' % str(uniqueskus[skudex]) + str(pklhp), 'rb'))"
   ]
  },
  {
   "cell_type": "code",
   "execution_count": 8,
   "metadata": {
    "scrolled": false
   },
   "outputs": [
    {
     "name": "stdout",
     "output_type": "stream",
     "text": [
      "metric min:-inf, max:601.110198\n"
     ]
    },
    {
     "data": {
      "image/png": "[encoded data removed]",
      "text/plain": [
       "<matplotlib.figure.Figure at 0x1143ece80>"
      ]
     },
     "metadata": {},
     "output_type": "display_data"
    },
    {
     "name": "stdout",
     "output_type": "stream",
     "text": [
      "area under curve: 0.639109134111\n",
      "metric min:-inf, max:693.919761\n"
     ]
    },
    {
     "data": {
      "image/png": "[encoded data removed]",
      "text/plain": [
       "<matplotlib.figure.Figure at 0x124c0dd30>"
      ]
     },
     "metadata": {},
     "output_type": "display_data"
    },
    {
     "name": "stdout",
     "output_type": "stream",
     "text": [
      "area under curve: 0.653866683076\n",
      "metric min:-inf, max:637.140318\n"
     ]
    },
    {
     "data": {
      "image/png": "[encoded data removed]",
      "text/plain": [
       "<matplotlib.figure.Figure at 0x1252a99b0>"
      ]
     },
     "metadata": {},
     "output_type": "display_data"
    },
    {
     "name": "stdout",
     "output_type": "stream",
     "text": [
      "area under curve: 0.632475380119\n",
      "metric min:-inf, max:619.348211\n"
     ]
    },
    {
     "data": {
      "image/png": "[encoded data removed]",
      "text/plain": [
       "<matplotlib.figure.Figure at 0x125704828>"
      ]
     },
     "metadata": {},
     "output_type": "display_data"
    },
    {
     "name": "stdout",
     "output_type": "stream",
     "text": [
      "area under curve: 0.668772613786\n"
     ]
    }
   ],
   "source": [
    "from evaluate import roceval\n",
    "\n",
    "allcids = np.array([])\n",
    "for skudex in range(nprods):\n",
    "    predtemp = predictions[skudex]\n",
    "    \n",
    "    metrictemp = predtemp['metric'].as_matrix()\n",
    "    metricfinite = metrictemp[np.isfinite(metrictemp)]\n",
    "    metricmin, metricmax = min(metricfinite), max(metricfinite)\n",
    "    print ('metric min:%f, max:%f' % (metricmin, metricmax))\n",
    "    \n",
    "    metrictemp[metrictemp < metricmin] = metricmin\n",
    "    metrictemp[metrictemp > metricmax] = metricmax\n",
    "    \n",
    "    #plt.hist(metrictemp); plt.show()\n",
    "    metrictemp[np.isnan(metrictemp)] = 0\n",
    "    truthtemp  = predtemp['truth'].as_matrix()\n",
    "    roceval(truthtemp, metrictemp)\n",
    "    \n",
    "    allcids = np.concatenate([allcids, predtemp.index.values])"
   ]
  },
  {
   "cell_type": "code",
   "execution_count": 9,
   "metadata": {},
   "outputs": [
    {
     "name": "stdout",
     "output_type": "stream",
     "text": [
      "347752\n",
      "115457\n"
     ]
    }
   ],
   "source": [
    "print (len(allcids))\n",
    "allcids = np.unique(allcids)\n",
    "print (len(allcids))"
   ]
  },
  {
   "cell_type": "code",
   "execution_count": 10,
   "metadata": {
    "collapsed": true
   },
   "outputs": [],
   "source": [
    "jointmetric = pd.DataFrame(index=allcids)\n",
    "for skudex in range(nprods):\n",
    "    predtemp = predictions[skudex]   \n",
    "    jointmetric[str(skudex)] = np.zeros(len(allcids))\n",
    "    jointmetric.loc[predtemp.index.values, str(skudex)] = predtemp.loc[:,'metric']"
   ]
  },
  {
   "cell_type": "code",
   "execution_count": 11,
   "metadata": {},
   "outputs": [
    {
     "name": "stdout",
     "output_type": "stream",
     "text": [
      "            0          1          2          3\n",
      "0.0  1.260834   0.000000   2.810967   1.424104\n",
      "1.0  1.377456  15.490068   0.509738   0.000000\n",
      "2.0  0.000002  31.134930   2.933707   0.000000\n",
      "3.0  2.106236   1.565957  10.385418   0.000000\n",
      "4.0  0.000000   0.000000   0.000000  18.210849\n",
      "5.0  0.000000   2.798357   2.651280   1.341903\n",
      "6.0  0.000000   0.000000   0.000004   0.000000\n",
      "7.0  5.262680   0.000000   0.000000   3.383018\n",
      "8.0  0.000000   1.370590   8.009097   0.000000\n",
      "9.0  0.000354   1.277000   8.474120   0.000000\n"
     ]
    }
   ],
   "source": [
    "print (jointmetric.head(10))"
   ]
  },
  {
   "cell_type": "code",
   "execution_count": 12,
   "metadata": {
    "collapsed": true
   },
   "outputs": [],
   "source": [
    "transtest = ffs.getdf_intimerange(transactions, split, fin)\n",
    "\n",
    "jointtruth = pd.DataFrame(index=allcids)\n",
    "for skudex in range(nprods):\n",
    "    skuname = uniqueskus[skudex]\n",
    "    usedex = transtest.loc[:,'product_sku'] == skuname\n",
    "    cidtestsku = ffs.getcustid(transtest.loc[usedex,:])\n",
    "    jointtruth[str(skudex)] = np.in1d(allcids, cidtestsku)"
   ]
  },
  {
   "cell_type": "code",
   "execution_count": 13,
   "metadata": {},
   "outputs": [
    {
     "name": "stdout",
     "output_type": "stream",
     "text": [
      "         0      1      2      3\n",
      "0.0  False  False  False  False\n",
      "1.0  False  False  False  False\n",
      "2.0  False  False  False  False\n",
      "3.0  False  False  False  False\n",
      "4.0  False  False  False  False\n",
      "5.0  False  False  False  False\n",
      "6.0  False  False  False  False\n",
      "7.0  False  False  False  False\n",
      "8.0  False  False  False  False\n",
      "9.0  False  False  False  False\n"
     ]
    }
   ],
   "source": [
    "print (jointtruth.head(10))"
   ]
  },
  {
   "cell_type": "code",
   "execution_count": 14,
   "metadata": {},
   "outputs": [
    {
     "name": "stdout",
     "output_type": "stream",
     "text": [
      "(115457, 4)\n",
      "(115457, 4)\n"
     ]
    }
   ],
   "source": [
    "print (jointtruth.as_matrix().shape)\n",
    "print (jointmetric.as_matrix().shape)\n",
    "nobs, _ = jointtruth.as_matrix().shape"
   ]
  },
  {
   "cell_type": "code",
   "execution_count": 24,
   "metadata": {
    "collapsed": true
   },
   "outputs": [],
   "source": [
    "truth  = jointtruth.as_matrix().reshape((nprods * nobs))\n",
    "metric = jointmetric.as_matrix().reshape((nprods * nobs))\n",
    "metric = np.maximum(0, metric)\n",
    "metric[np.where(np.isnan(metric))] = 0"
   ]
  },
  {
   "cell_type": "code",
   "execution_count": 25,
   "metadata": {
    "collapsed": true
   },
   "outputs": [],
   "source": [
    "# plt.hist(metric.reshape((nprods * nobs),), \n",
    "#          normed = True, color = 'blue', alpha = .5)\n",
    "# plt.hist(truth.reshape((nprods * nobs),), \n",
    "#          normed = True, color = 'red',  alpha = .5)\n",
    "# #plt.xlim((0, 1))\n",
    "# plt.title('Histogram of Predicted vs Actual')\n",
    "# plt.show()"
   ]
  },
  {
   "cell_type": "markdown",
   "metadata": {},
   "source": [
    "roc!"
   ]
  },
  {
   "cell_type": "code",
   "execution_count": 26,
   "metadata": {},
   "outputs": [
    {
     "data": {
      "image/png": "[encoded data removed]",
      "text/plain": [
       "<matplotlib.figure.Figure at 0x12572c320>"
      ]
     },
     "metadata": {},
     "output_type": "display_data"
    },
    {
     "name": "stdout",
     "output_type": "stream",
     "text": [
      "area under curve: 0.50025773386\n"
     ]
    }
   ],
   "source": [
    "from evaluate import roceval\n",
    "rocauc = roceval(truth, metric)"
   ]
  }
 ],
 "metadata": {
  "kernelspec": {
   "display_name": "Python 3",
   "language": "python",
   "name": "python3"
  },
  "language_info": {
   "codemirror_mode": {
    "name": "ipython",
    "version": 3
   },
   "file_extension": ".py",
   "mimetype": "text/x-python",
   "name": "python",
   "nbconvert_exporter": "python",
   "pygments_lexer": "ipython3",
   "version": "3.6.1"
  }
 },
 "nbformat": 4,
 "nbformat_minor": 2
}
