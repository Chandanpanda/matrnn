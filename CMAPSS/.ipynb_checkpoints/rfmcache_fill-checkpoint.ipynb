{
 "cells": [
  {
   "cell_type": "code",
   "execution_count": 1,
   "metadata": {},
   "outputs": [
    {
     "name": "stdout",
     "output_type": "stream",
     "text": [
      "/Users/tianlechen/Documents/GitHub/Togepi/tianle-rxplenishment/gru_arrivaltimes/run_crusoely/blagdon_sodapop_jointwrfm\n"
     ]
    }
   ],
   "source": [
    "import gzip\n",
    "import pickle\n",
    "\n",
    "import numpy as np\n",
    "import pandas as pd\n",
    "import psycopg2 as pg\n",
    "\n",
    "pklhp = pickle.HIGHEST_PROTOCOL\n",
    "\n",
    "import os\n",
    "cwd = os.getcwd()\n",
    "print (cwd)"
   ]
  },
  {
   "cell_type": "code",
   "execution_count": 2,
   "metadata": {
    "collapsed": true
   },
   "outputs": [],
   "source": [
    "testing = True"
   ]
  },
  {
   "cell_type": "markdown",
   "metadata": {},
   "source": [
    "# Source transactions of interest"
   ]
  },
  {
   "cell_type": "code",
   "execution_count": 3,
   "metadata": {},
   "outputs": [
    {
     "name": "stdout",
     "output_type": "stream",
     "text": [
      "skusfname: sodapopskus.txt\n",
      "timeunit: week\n",
      "      custid  ordqty  product_sku                date\n",
      "0  9623203.0     2.0      10201.0 2013-02-09 20:20:47\n",
      "1  9475196.0     1.0      10201.0 2013-01-08 14:16:45\n",
      "2   524466.0     1.0      10201.0 2013-01-08 13:39:34\n",
      "3  7646254.0     2.0      10201.0 2013-03-05 17:13:34\n",
      "4  9074093.0     1.0      10201.0 2014-06-04 13:39:00\n"
     ]
    }
   ],
   "source": [
    "import funforsql as ffs\n",
    "alltrans = ffs.gettransactions()\n",
    "print (alltrans.head(5))"
   ]
  },
  {
   "cell_type": "code",
   "execution_count": 4,
   "metadata": {},
   "outputs": [
    {
     "name": "stdout",
     "output_type": "stream",
     "text": [
      "tstart:\n",
      "\t2014-01-01 00:00:00\n",
      "ttrain:\n",
      "\t2015-06-30 00:00:00\n",
      "tend:\n",
      "\t2016-12-31 00:00:00\n"
     ]
    }
   ],
   "source": [
    "d = pickle.load(gzip.open('dates.pkl' + str(pklhp), 'rb'))\n",
    "for k in d:\n",
    "    print ('%s:\\n\\t%s' % (k, d[k]))"
   ]
  },
  {
   "cell_type": "code",
   "execution_count": 7,
   "metadata": {},
   "outputs": [
    {
     "name": "stdout",
     "output_type": "stream",
     "text": [
      "len alltimes 78\n",
      "alltimes first 10:\n",
      " DatetimeIndex(['2014-01-01', '2014-01-08', '2014-01-15', '2014-01-22',\n",
      "               '2014-01-29', '2014-02-05', '2014-02-12', '2014-02-19',\n",
      "               '2014-02-26', '2014-03-05'],\n",
      "              dtype='datetime64[ns]', freq='7D')\n",
      "alltimes last 10:\n",
      " DatetimeIndex(['2015-04-22', '2015-04-29', '2015-05-06', '2015-05-13',\n",
      "               '2015-05-20', '2015-05-27', '2015-06-03', '2015-06-10',\n",
      "               '2015-06-17', '2015-06-24'],\n",
      "              dtype='datetime64[ns]', freq='7D')\n",
      "len alltimes 2\n"
     ]
    }
   ],
   "source": [
    "alltimes = pd.date_range(d['tstart'], d['ttrain'], freq = '7D')\n",
    "print ('len alltimes', len(alltimes))\n",
    "print ('alltimes first 10:\\n', alltimes[:10])\n",
    "print ('alltimes last 10:\\n', alltimes[-10:])\n",
    "pickle.dump(alltimes, gzip.open('rfmcache_alltimes.pkl' + str(pklhp), 'wb'))\n",
    "pickle.dump(alltimes, gzip.open('rfmcache_alltimes.pkl2', 'wb'), 2)\n",
    "\n",
    "if testing: alltimes = alltimes[:2]; print ('testing! len alltimes', len(alltimes))"
   ]
  },
  {
   "cell_type": "code",
   "execution_count": null,
   "metadata": {
    "collapsed": true
   },
   "outputs": [],
   "source": [
    "allskus = np.sort(np.unique(np.array(alltrans.loc[:, 'product_sku'])))\n",
    "\n",
    "if testing: allskus = allskus[:2]\n",
    "print ('len allskus', len(allskus))"
   ]
  },
  {
   "cell_type": "code",
   "execution_count": null,
   "metadata": {
    "collapsed": true
   },
   "outputs": [],
   "source": [
    "def datestrrep(dt):\n",
    "    return str(dt.strftime('%Y-%m-%d'))"
   ]
  },
  {
   "cell_type": "markdown",
   "metadata": {},
   "source": [
    "# Set up x, y for all cids"
   ]
  },
  {
   "cell_type": "code",
   "execution_count": null,
   "metadata": {
    "collapsed": true
   },
   "outputs": [],
   "source": [
    "with open('blagdon_cred.txt') as f:\n",
    "    usr = f.readline().strip()\n",
    "    pwd = f.readline().strip()\n",
    "    \n",
    "# setup connection\n",
    "def getnewconn():    \n",
    "    conn = pg.connect(\"dbname='blagdon' \" + \\\n",
    "                      \"user='%s' \" % usr + \\\n",
    "                      \"host='prod-blagdon.c3dswjg84n8q.eu-west-1.redshift.amazonaws.com'\" + \\\n",
    "                      \"port=5439 password='%s'\" % pwd)\n",
    "    return conn"
   ]
  },
  {
   "cell_type": "markdown",
   "metadata": {},
   "source": [
    "## Create table with cids for period (tstart, tend)"
   ]
  },
  {
   "cell_type": "code",
   "execution_count": null,
   "metadata": {
    "collapsed": true
   },
   "outputs": [],
   "source": [
    "conn = getnewconn()\n",
    "conn.cursor().execute('''DROP TABLE IF EXISTS tchen.tempcids''')\n",
    "query = '''\n",
    "    CREATE TABLE tchen.tempcids AS\n",
    "    SELECT DISTINCT member_key\n",
    "    FROM rawdata.b_transaction_rk\n",
    "    WHERE member_key != 0 \n",
    "        AND item_quantity_val > 0\n",
    "        AND transaction_dt >= '%s' :: DATE\n",
    "        AND transaction_dt <= '%s' :: DATE\n",
    "        AND product_key IN %s''' %\\\n",
    "    (datestrrep(d['tstart']), datestrrep(d['tend']), str(tuple(allskus)))\n",
    "print (query)\n",
    "conn.cursor().execute(query)\n",
    "conn.commit()"
   ]
  },
  {
   "cell_type": "code",
   "execution_count": null,
   "metadata": {
    "collapsed": true
   },
   "outputs": [],
   "source": [
    "allcids = pd.read_sql_query('''SELECT * FROM tchen.tempcids''', conn)['member_key'].as_matrix()\n",
    "print ('len allcids:', len(allcids))"
   ]
  },
  {
   "cell_type": "markdown",
   "metadata": {},
   "source": [
    "## Setup RFM as covariates"
   ]
  },
  {
   "cell_type": "code",
   "execution_count": null,
   "metadata": {
    "collapsed": true
   },
   "outputs": [],
   "source": [
    "def getrfm_table(valdate, skus = None, verbose = False):\n",
    "    '''\n",
    "    get rfm on valdate for skus in skus\n",
    "    only for custid in tchen.tempcids...\n",
    "    '''\n",
    "    conn = getnewconn()\n",
    "    query = '''\n",
    "    SELECT \n",
    "        A.member_key AS custid,\n",
    "        MIN(DATEDIFF('day', A.transaction_dt, '%s' :: DATE)) AS r,\n",
    "        SUM(A.item_quantity_val) AS f,\n",
    "        SUM(A.item_amt) AS m\n",
    "    FROM rawdata.b_transaction_rk AS A\n",
    "        INNER JOIN tchen.tempcids AS B\n",
    "        ON A.member_key = B.member_key\n",
    "    WHERE A.transaction_dt <= '%s' :: DATE''' % (datestrrep(valdate), datestrrep(valdate))\n",
    "    \n",
    "    if skus is not None:\n",
    "        if len(skus) == 1:\n",
    "            suffix = '''\n",
    "        AND A.product_key = %s''' % str(skus[0])\n",
    "        else:\n",
    "            suffix = '''\n",
    "        AND A.product_key IN %s''' % str(tuple(skus))\n",
    "        query += suffix\n",
    "    \n",
    "    query += '''\n",
    "    GROUP BY custid'''\n",
    "    \n",
    "    if verbose:\n",
    "        print (query)\n",
    "        \n",
    "    return (pd.read_sql_query(query, conn))"
   ]
  },
  {
   "cell_type": "code",
   "execution_count": null,
   "metadata": {
    "collapsed": true
   },
   "outputs": [],
   "source": [
    "def getrfm_table_all(skus, valdate):\n",
    "    '''\n",
    "    get all rfm_valdate, return fname\n",
    "    '''\n",
    "    rfmlist = [getrfm_table(valdate), getrfm_table(valdate, skus)]\n",
    "    for skutemp in skus:\n",
    "        rfmlist.append(getrfm_table(valdate, (skutemp,)))\n",
    "        \n",
    "    fname = cwd + '/rfmcache/rfm_valdate_%s.pkl%s' % (str(datestrrep(valdate)), str(pklhp))\n",
    "    pickle.dump(rfmlist, gzip.open(fname, 'wb'))\n",
    "    return fname"
   ]
  },
  {
   "cell_type": "code",
   "execution_count": null,
   "metadata": {
    "collapsed": true
   },
   "outputs": [],
   "source": [
    "def worker(valdate):\n",
    "    print ('doing rfm for valdate...', datestrrep(valdate))\n",
    "    return getrfm_table_all(allskus, valdate)\n",
    "\n",
    "\n",
    "from multiprocessing import Pool\n",
    "nthreads = 10\n",
    "if testing: nthreads = 2\n",
    "p = Pool(nthreads)\n",
    "resl = p.map(worker, alltimes)\n",
    "# resl = [worker(valdate) for valdate in alltimes]\n",
    "pickle.dump(resl, gzip.open('rfmcache_fnames.pkl' + str(pklhp), 'wb'))"
   ]
  }
 ],
 "metadata": {
  "kernelspec": {
   "display_name": "Python 3",
   "language": "python",
   "name": "python3"
  },
  "language_info": {
   "codemirror_mode": {
    "name": "ipython",
    "version": 3
   },
   "file_extension": ".py",
   "mimetype": "text/x-python",
   "name": "python",
   "nbconvert_exporter": "python",
   "pygments_lexer": "ipython3",
   "version": "3.6.1"
  }
 },
 "nbformat": 4,
 "nbformat_minor": 2
}
