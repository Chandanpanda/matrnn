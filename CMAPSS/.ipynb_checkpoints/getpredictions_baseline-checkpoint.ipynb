{
 "cells": [
  {
   "cell_type": "markdown",
   "metadata": {},
   "source": [
    "# Import modules and define parameters"
   ]
  },
  {
   "cell_type": "code",
   "execution_count": 1,
   "metadata": {
    "collapsed": true
   },
   "outputs": [],
   "source": [
    "import time\n",
    "import os\n",
    "import gzip\n",
    "import pickle\n",
    "import platform\n",
    "import numpy as np\n",
    "import pandas as pd\n",
    "\n",
    "pklhp = pickle.HIGHEST_PROTOCOL"
   ]
  },
  {
   "cell_type": "code",
   "execution_count": 2,
   "metadata": {},
   "outputs": [
    {
     "name": "stderr",
     "output_type": "stream",
     "text": [
      "Using TensorFlow backend.\n"
     ]
    }
   ],
   "source": [
    "from wbce_fitter import RecurrentWBCE"
   ]
  },
  {
   "cell_type": "code",
   "execution_count": 3,
   "metadata": {
    "collapsed": true
   },
   "outputs": [],
   "source": [
    "# database stuff\n",
    "timeunit = 'week' # valid choices: day, week, month, quarter\n",
    "incl_alltrans_percust = False"
   ]
  },
  {
   "cell_type": "code",
   "execution_count": 4,
   "metadata": {
    "collapsed": true
   },
   "outputs": [],
   "source": [
    "# meta settings\n",
    "workers = 4\n",
    "batch_size = 10*4096\n",
    "epochs = 1\n",
    "\n",
    "# names and stuff\n",
    "purpose = 'baseline'\n",
    "modelspecfname = 'spec05.py'"
   ]
  },
  {
   "cell_type": "code",
   "execution_count": 5,
   "metadata": {
    "collapsed": true
   },
   "outputs": [],
   "source": [
    "skudex = None\n",
    "#skudex = 0\n",
    "\n",
    "# db name\n",
    "skusfname = 'sodapopskus.txt'\n",
    "discardfirstn = 450 #250"
   ]
  },
  {
   "cell_type": "markdown",
   "metadata": {},
   "source": [
    "## Load Transaction Data"
   ]
  },
  {
   "cell_type": "code",
   "execution_count": 6,
   "metadata": {
    "collapsed": true
   },
   "outputs": [],
   "source": [
    "import funforsql_blagdon as ffs"
   ]
  },
  {
   "cell_type": "code",
   "execution_count": 7,
   "metadata": {
    "collapsed": true,
    "scrolled": false
   },
   "outputs": [],
   "source": [
    "transactions = ffs.gettransactions_cached(skusfname, timeunit='week')\n",
    "transactions = transactions.loc[transactions['ordqty']>0,:]"
   ]
  },
  {
   "cell_type": "code",
   "execution_count": 8,
   "metadata": {
    "collapsed": true
   },
   "outputs": [],
   "source": [
    "# import matplotlib.pyplot as plt\n",
    "\n",
    "# def get_date_counts(obj):\n",
    "#     orddate, subset = obj\n",
    "#     return (orddate, len(subset))    \n",
    "\n",
    "# groupedby_orddate = transactions.groupby('orddate_index')\n",
    "# transactions_perorddate = np.array(list(map(get_date_counts, list(groupedby_orddate))))\n",
    "\n",
    "# plt.plot(transactions_perorddate[:,0], transactions_perorddate[:,1])\n",
    "# plt.show()"
   ]
  },
  {
   "cell_type": "code",
   "execution_count": 9,
   "metadata": {},
   "outputs": [
    {
     "name": "stdout",
     "output_type": "stream",
     "text": [
      "com:0, split:24, fin:49\n"
     ]
    }
   ],
   "source": [
    "def discardfirst(transactions, n):\n",
    "    dates = transactions.loc[:, 'orddate_index'] - n\n",
    "    transactions.loc[:, 'orddate_index'] = dates\n",
    "    return transactions.loc[dates>=0,:]\n",
    "\n",
    "transactions = discardfirst(transactions, discardfirstn)\n",
    "\n",
    "com, split, fin = ffs.gettimes(transactions)\n",
    "## note that com needs to be 0 since i didn't bother to account for the case where it isn't 0.\n",
    "print ('com:%i, split:%i, fin:%i' % (com, split, fin))\n",
    "\n",
    "transtrain = ffs.getdf_intimerange(transactions, com, split)\n",
    "transtest  = ffs.getdf_intimerange(transactions, split, fin)\n",
    "\n",
    "uniqueskus = np.sort(np.unique(transtrain.loc[:, 'product_sku']))"
   ]
  },
  {
   "cell_type": "markdown",
   "metadata": {},
   "source": [
    "## Modify source db type, subset transaction table if necessary"
   ]
  },
  {
   "cell_type": "code",
   "execution_count": 10,
   "metadata": {},
   "outputs": [
    {
     "name": "stdout",
     "output_type": "stream",
     "text": [
      "[  64330.   83092.  137538.  140363.]\n"
     ]
    }
   ],
   "source": [
    "useskus = uniqueskus\n",
    "if skudex is not None:\n",
    "    useskus = np.array([uniqueskus[skudex]])\n",
    "print (useskus)"
   ]
  },
  {
   "cell_type": "code",
   "execution_count": 11,
   "metadata": {
    "collapsed": true
   },
   "outputs": [],
   "source": [
    "particularsku = ''\n",
    "if not (str(useskus) == str(uniqueskus)):\n",
    "    particularsku = str(useskus[0])\n",
    "    useobs = np.in1d(transtrain.loc[:,'product_sku'], useskus)\n",
    "    transtrain = transtrain.loc[useobs,:]\n",
    "    useobs = np.in1d(transtest.loc[:,'product_sku'], useskus)\n",
    "    transtest = transtest.loc[useobs,:]"
   ]
  },
  {
   "cell_type": "code",
   "execution_count": 12,
   "metadata": {
    "collapsed": true
   },
   "outputs": [],
   "source": [
    "cids = ffs.getcustid(transtrain)"
   ]
  },
  {
   "cell_type": "code",
   "execution_count": 13,
   "metadata": {
    "collapsed": true
   },
   "outputs": [],
   "source": [
    "nprods = len(useskus)\n",
    "nobs = len(cids)"
   ]
  },
  {
   "cell_type": "code",
   "execution_count": 14,
   "metadata": {},
   "outputs": [
    {
     "name": "stdout",
     "output_type": "stream",
     "text": [
      "len cids 112262\n"
     ]
    }
   ],
   "source": [
    "print ('len cids', len(cids))"
   ]
  },
  {
   "cell_type": "markdown",
   "metadata": {},
   "source": [
    "## Model Fitting!"
   ]
  },
  {
   "cell_type": "code",
   "execution_count": 15,
   "metadata": {},
   "outputs": [
    {
     "name": "stdout",
     "output_type": "stream",
     "text": [
      "           custid ordqty  product_sku  orddate_index\n",
      "165720  4886105.0      1     140363.0             16\n",
      "165721  4886105.0      1     140363.0             16\n",
      "165722  4886105.0      1     140363.0             16\n",
      "166248  4886105.0      1     140363.0             16\n",
      "166249  4886105.0      1     140363.0             16\n"
     ]
    }
   ],
   "source": [
    "print (transtrain.head())"
   ]
  },
  {
   "cell_type": "code",
   "execution_count": 16,
   "metadata": {},
   "outputs": [
    {
     "name": "stdout",
     "output_type": "stream",
     "text": [
      "        event_time  event_type         id\n",
      "165720          16    140363.0  4886105.0\n",
      "165721          16    140363.0  4886105.0\n",
      "165722          16    140363.0  4886105.0\n",
      "166248          16    140363.0  4886105.0\n",
      "166249          16    140363.0  4886105.0\n"
     ]
    }
   ],
   "source": [
    "# evdetails is pandas dataframe with columns ['id', 'event_time', 'event_type']\n",
    "d = {'id':         transtrain['custid'], \n",
    "     'event_time': transtrain['orddate_index'], \n",
    "     'event_type': transtrain['product_sku']}\n",
    "evdetails = pd.DataFrame(d)\n",
    "print (evdetails.head())"
   ]
  },
  {
   "cell_type": "code",
   "execution_count": 17,
   "metadata": {
    "collapsed": true
   },
   "outputs": [],
   "source": [
    "model = RecurrentWBCE(evdetails, \n",
    "                      modelspecfname, \n",
    "                      seqlen=split-com+1, \n",
    "                      dbidentifier=skusfname+particularsku)"
   ]
  },
  {
   "cell_type": "code",
   "execution_count": 18,
   "metadata": {},
   "outputs": [
    {
     "name": "stdout",
     "output_type": "stream",
     "text": [
      "doing training...\n",
      "cachefname:ginnycache_sodapopskus.txt_batchsize1000_no000.pkl4 not found... getting new\n",
      "formatting took 5.156552791595459\n",
      "saved cache! took total 5.683367729187012\n",
      "Epoch 1/1cachefname:ginnycache_sodapopskus.txt_batchsize40960_no000.pkl4 not found... getting newcachefname:ginnycache_sodapopskus.txt_batchsize40960_no001.pkl4 not found... getting newcachefname:ginnycache_sodapopskus.txt_batchsize40960_no002.pkl4 not found... getting new\n",
      "\n",
      "\n",
      "\n",
      "formatting took 595.0218830108643\n",
      "saved cache! took total 608.4395759105682\n",
      "cachefname:ginnycache_sodapopskus.txt_batchsize40960_no000.pkl4 not found... getting new\n",
      "formatting took 823.6490550041199\n",
      "formatting took 827.0978810787201\n",
      "saved cache! took total 848.1317949295044\n",
      "saved cache! took total 852.5694100856781\n",
      "880s - loss: 3.5361 - val_loss: 3.3410\n",
      "formatting took 426.0448749065399\n",
      "saved cache! took total 447.8121259212494\n",
      "training done in: 1067.557363986969\n",
      "doing predictions...\n",
      "predictions done in: 10.512302160263062\n"
     ]
    }
   ],
   "source": [
    "model.fit(lr=.01, \n",
    "          batch_size=batch_size, \n",
    "          workers=workers, epochs=1)"
   ]
  },
  {
   "cell_type": "markdown",
   "metadata": {},
   "source": [
    "## Is actually baseline stuff"
   ]
  },
  {
   "cell_type": "code",
   "execution_count": 19,
   "metadata": {
    "collapsed": true,
    "scrolled": false
   },
   "outputs": [],
   "source": [
    "def interevent(groupbyid):\n",
    "    _, subset = groupbyid\n",
    "    event_times = np.unique(subset.loc[:,'event_time'])\n",
    "    if len(event_times)>1:\n",
    "        event_times = np.sort(event_times)\n",
    "        return np.diff(event_times)\n",
    "    else:\n",
    "        return np.zeros(1)"
   ]
  },
  {
   "cell_type": "code",
   "execution_count": 20,
   "metadata": {
    "collapsed": true
   },
   "outputs": [],
   "source": [
    "def interevent_pertype(groupbytype):\n",
    "    _, subset = groupbytype\n",
    "    resl = list(map(interevent, subset.groupby('id')))\n",
    "    out = np.concatenate(resl, axis=0)\n",
    "    out = out[out > 0]\n",
    "    return out"
   ]
  },
  {
   "cell_type": "code",
   "execution_count": 21,
   "metadata": {
    "collapsed": true
   },
   "outputs": [],
   "source": [
    "resl = list(map(interevent_pertype, list(evdetails.groupby('event_type'))))"
   ]
  },
  {
   "cell_type": "code",
   "execution_count": 22,
   "metadata": {},
   "outputs": [
    {
     "name": "stdout",
     "output_type": "stream",
     "text": [
      "[array([ 3.,  1.,  1., ...,  1.,  8.,  5.]), array([ 3.,  2.,  3., ...,  1.,  1.,  3.]), array([ 18.,   6.,   4., ...,   1.,   1.,   2.]), array([  1.,   1.,   1., ...,   2.,  12.,   5.])]\n"
     ]
    }
   ],
   "source": [
    "print (resl)"
   ]
  },
  {
   "cell_type": "code",
   "execution_count": 23,
   "metadata": {
    "collapsed": true
   },
   "outputs": [],
   "source": [
    "import autograd.numpy as np\n",
    "from autograd import grad\n",
    "from autograd.optimizers import adam\n",
    "\n",
    "iniscales = np.zeros(nprods)\n",
    "skudex = 0\n",
    "for sku in useskus:\n",
    "    iniscales[skudex] = np.nanmean(resl[skudex])\n",
    "    skudex += 1"
   ]
  },
  {
   "cell_type": "code",
   "execution_count": 24,
   "metadata": {},
   "outputs": [
    {
     "name": "stdout",
     "output_type": "stream",
     "text": [
      "[[ 1.32452836  0.        ]\n",
      " [ 1.32031262  0.        ]\n",
      " [ 1.32752739  0.        ]\n",
      " [ 1.29142647  0.        ]]\n"
     ]
    }
   ],
   "source": [
    "iniparams = np.transpose(np.array([np.log(iniscales), np.zeros(nprods)]))\n",
    "print (iniparams)"
   ]
  },
  {
   "cell_type": "code",
   "execution_count": 25,
   "metadata": {
    "collapsed": true
   },
   "outputs": [],
   "source": [
    "def wblogdense(x, scale, shape):\n",
    "    out = np.log(shape/scale)\n",
    "    out += (shape-1)*np.log(x/scale)\n",
    "    out += -np.power(x/scale, shape)\n",
    "    return out\n",
    "\n",
    "def obj(params, iter=0):\n",
    "    llike = 0\n",
    "    for skudex in range(nprods):\n",
    "        scale, shape = np.exp(params[skudex, 0]), np.exp(params[skudex, 1])+1e-16\n",
    "        #print(scale, shape)\n",
    "        llike += np.sum(wblogdense(resl[skudex], scale, shape))\n",
    "    return -llike"
   ]
  },
  {
   "cell_type": "code",
   "execution_count": 26,
   "metadata": {},
   "outputs": [
    {
     "data": {
      "text/plain": [
       "175775.24719011402"
      ]
     },
     "execution_count": 26,
     "metadata": {},
     "output_type": "execute_result"
    }
   ],
   "source": [
    "obj(iniparams)"
   ]
  },
  {
   "cell_type": "code",
   "execution_count": 27,
   "metadata": {
    "scrolled": false
   },
   "outputs": [
    {
     "name": "stdout",
     "output_type": "stream",
     "text": [
      "[[ 1.35269309  0.06177216]\n",
      " [ 1.35378837  0.07498145]\n",
      " [ 1.3576012   0.06645054]\n",
      " [ 1.3206368   0.0638272 ]]\n",
      "(4, 2)\n"
     ]
    }
   ],
   "source": [
    "params = adam(grad(obj), iniparams, num_iters=500)\n",
    "print (params)\n",
    "print (params.shape)"
   ]
  },
  {
   "cell_type": "markdown",
   "metadata": {},
   "source": [
    "## Get Metric and Truth"
   ]
  },
  {
   "cell_type": "code",
   "execution_count": 31,
   "metadata": {},
   "outputs": [
    {
     "name": "stdout",
     "output_type": "stream",
     "text": [
      "(112262, 4, 2)\n"
     ]
    }
   ],
   "source": [
    "print (np.tile(params.reshape((1, nprods, 2)), (nobs, 1, 1)).shape)"
   ]
  },
  {
   "cell_type": "code",
   "execution_count": 32,
   "metadata": {},
   "outputs": [
    {
     "name": "stdout",
     "output_type": "stream",
     "text": [
      "finding P(occur in testing)...\n",
      "doing cachedex 0...\n",
      "cachedex 0 has 40960 observations\n",
      "doing cachedex 1...\n",
      "cachedex 1 has 40960 observations\n",
      "doing cachedex 2...\n",
      "cachedex 2 has 30342 observations\n"
     ]
    }
   ],
   "source": [
    "metric = model.predictother(fin-split, np.tile(params.reshape((1, nprods, 2)), (nobs, 1, 1)))"
   ]
  },
  {
   "cell_type": "code",
   "execution_count": 33,
   "metadata": {
    "collapsed": true
   },
   "outputs": [],
   "source": [
    "truth = np.empty((nobs, nprods, 1))\n",
    "for prod in np.arange(nprods):\n",
    "    sku = useskus[prod]\n",
    "    relevant = transtest.loc[:, 'product_sku'] == sku\n",
    "    truthtemp = np.in1d(cids, ffs.getcustid(transtest.loc[relevant,:]))\n",
    "    truth[:, prod, :] = truthtemp.reshape((nobs, 1))"
   ]
  },
  {
   "cell_type": "code",
   "execution_count": 34,
   "metadata": {},
   "outputs": [
    {
     "data": {
      "image/png": "[encoded data removed]",
      "text/plain": [
       "<matplotlib.figure.Figure at 0x1677be5c0>"
      ]
     },
     "metadata": {},
     "output_type": "display_data"
    },
    {
     "name": "stdout",
     "output_type": "stream",
     "text": [
      "area under curve: 0.699479420527\n"
     ]
    }
   ],
   "source": [
    "from evaluate import roceval\n",
    "dump = roceval(truth.reshape(nobs*nprods), metric.reshape(nobs*nprods))"
   ]
  },
  {
   "cell_type": "markdown",
   "metadata": {},
   "source": [
    "### Format and save..."
   ]
  },
  {
   "cell_type": "code",
   "execution_count": 36,
   "metadata": {},
   "outputs": [
    {
     "name": "stdout",
     "output_type": "stream",
     "text": [
      "        truth64330.0  metric64330.0  truth83092.0  metric83092.0  \\\n",
      "28.0             0.0       0.087021           1.0       0.127621   \n",
      "404.0            0.0       0.097058           0.0       0.120215   \n",
      "426.0            0.0       0.055438           1.0       0.175953   \n",
      "493.0            0.0       0.052417           0.0       0.065930   \n",
      "774.0            0.0       0.057096           0.0       0.071679   \n",
      "892.0            0.0       0.196534           0.0       0.237009   \n",
      "949.0            0.0       0.062790           0.0       0.078656   \n",
      "1030.0           0.0       0.196534           0.0       0.237009   \n",
      "1048.0           0.0       0.053882           0.0       0.067732   \n",
      "1064.0           0.0       0.075757           1.0       0.094467   \n",
      "\n",
      "        truth137538.0  metric137538.0  truth140363.0  metric140363.0  \n",
      "28.0              0.0        0.094373            0.0        0.090378  \n",
      "404.0             0.0        0.105144            0.0        0.100754  \n",
      "426.0             0.0        0.060358            0.0        0.057678  \n",
      "493.0             0.0        0.057093            0.0        0.054545  \n",
      "774.0             0.0        0.062148            0.0        0.059396  \n",
      "892.0             0.0        0.210902            0.0        0.203152  \n",
      "949.0             0.0        0.068293            0.0        0.065297  \n",
      "1030.0            0.0        0.210902            0.0        0.203152  \n",
      "1048.0            0.0        0.058676            0.0        0.056064  \n",
      "1064.0            0.0        0.082264            0.0        0.078726  \n"
     ]
    }
   ],
   "source": [
    "validationdf=pd.DataFrame(index=cids)\n",
    "skudex=0\n",
    "for sku in useskus:\n",
    "    skuname = str(useskus[skudex])\n",
    "    validationdf['truth' +skuname]=pd.Series(truth [:,skudex,0], index=cids)\n",
    "    validationdf['metric'+skuname]=pd.Series(metric[:,skudex,0], index=cids)\n",
    "    skudex+=1\n",
    "print (validationdf.head(10))\n",
    "pickle.dump(validationdf, \n",
    "            gzip.open(skusfname+particularsku+'_baseline_eval.pkl'+str(pklhp), 'wb'), \n",
    "            -1)"
   ]
  },
  {
   "cell_type": "code",
   "execution_count": null,
   "metadata": {
    "collapsed": true
   },
   "outputs": [],
   "source": []
  }
 ],
 "metadata": {
  "kernelspec": {
   "display_name": "Python 3",
   "language": "python",
   "name": "python3"
  },
  "language_info": {
   "codemirror_mode": {
    "name": "ipython",
    "version": 3
   },
   "file_extension": ".py",
   "mimetype": "text/x-python",
   "name": "python",
   "nbconvert_exporter": "python",
   "pygments_lexer": "ipython3",
   "version": "3.6.1"
  }
 },
 "nbformat": 4,
 "nbformat_minor": 2
}
