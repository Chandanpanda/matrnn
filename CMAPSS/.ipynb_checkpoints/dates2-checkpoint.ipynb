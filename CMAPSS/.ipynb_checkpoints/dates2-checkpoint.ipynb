{
 "cells": [
  {
   "cell_type": "code",
   "execution_count": 1,
   "metadata": {
    "collapsed": true
   },
   "outputs": [],
   "source": [
    "import gzip\n",
    "import pickle\n",
    "\n",
    "import numpy as np\n",
    "import pandas as pd\n",
    "import psycopg2 as pg\n",
    "\n",
    "pklhp = pickle.HIGHEST_PROTOCOL"
   ]
  },
  {
   "cell_type": "markdown",
   "metadata": {},
   "source": [
    "## Source Transactions Data"
   ]
  },
  {
   "cell_type": "code",
   "execution_count": 2,
   "metadata": {},
   "outputs": [
    {
     "name": "stdout",
     "output_type": "stream",
     "text": [
      "skusfname: sodapopskus.txt\n",
      "timeunit: week\n",
      "      custid  ordqty  product_sku                date\n",
      "0  9623203.0     2.0      10201.0 2013-02-09 20:20:47\n",
      "1  9475196.0     1.0      10201.0 2013-01-08 14:16:45\n",
      "2   524466.0     1.0      10201.0 2013-01-08 13:39:34\n",
      "3  7646254.0     2.0      10201.0 2013-03-05 17:13:34\n",
      "4  9074093.0     1.0      10201.0 2014-06-04 13:39:00\n"
     ]
    }
   ],
   "source": [
    "import funforsql as ffs\n",
    "alltrans = ffs.gettransactions()\n",
    "print (alltrans.head(5))"
   ]
  },
  {
   "cell_type": "code",
   "execution_count": 3,
   "metadata": {},
   "outputs": [
    {
     "name": "stdout",
     "output_type": "stream",
     "text": [
      "origin 2007-06-01 00:16:50\n"
     ]
    },
    {
     "data": {
      "image/png": "[encoded data removed]",
      "text/plain": [
       "<matplotlib.figure.Figure at 0x10c1fa358>"
      ]
     },
     "metadata": {},
     "output_type": "display_data"
    }
   ],
   "source": [
    "import matplotlib.pyplot as plt\n",
    "\n",
    "datestemp = alltrans['date']\n",
    "print ('origin', min(datestemp))\n",
    "\n",
    "datestemp = (datestemp - min(datestemp)).dt.days\n",
    "plt.hist(datestemp.as_matrix(), bins = 100)\n",
    "plt.xlabel('days from origin')\n",
    "plt.show()"
   ]
  },
  {
   "cell_type": "code",
   "execution_count": 4,
   "metadata": {
    "collapsed": true
   },
   "outputs": [],
   "source": [
    "tstart = pd.to_datetime('2014-01-01')\n",
    "ttrain = pd.to_datetime('2015-06-30')\n",
    "tend   = pd.to_datetime('2015-07-31')"
   ]
  },
  {
   "cell_type": "code",
   "execution_count": 5,
   "metadata": {
    "scrolled": false
   },
   "outputs": [
    {
     "name": "stdout",
     "output_type": "stream",
     "text": [
      "origin 2014-01-01 09:21:16\n"
     ]
    },
    {
     "data": {
      "image/png": "[encoded data removed]",
      "text/plain": [
       "<matplotlib.figure.Figure at 0x11d5bf6d8>"
      ]
     },
     "metadata": {},
     "output_type": "display_data"
    }
   ],
   "source": [
    "inconsideration = alltrans['date'] >= tstart\n",
    "inconsideration = np.logical_and(inconsideration, alltrans['date'] < tend)\n",
    "\n",
    "datestemp = alltrans.loc[inconsideration, 'date']\n",
    "print ('origin', min(datestemp))\n",
    "\n",
    "datestemp = (datestemp - min(datestemp)).dt.days\n",
    "plt.hist(datestemp.as_matrix(), bins = 100)\n",
    "plt.xlabel('days from origin')\n",
    "plt.show()"
   ]
  },
  {
   "cell_type": "code",
   "execution_count": 6,
   "metadata": {
    "collapsed": true
   },
   "outputs": [],
   "source": [
    "d = {'tstart': tstart,\n",
    "     'ttrain': ttrain,\n",
    "     'tend'  : tend}\n",
    "\n",
    "pickle.dump(d, gzip.open('dates2.pkl' + str(pklhp), 'wb'))"
   ]
  },
  {
   "cell_type": "code",
   "execution_count": null,
   "metadata": {
    "collapsed": true
   },
   "outputs": [],
   "source": []
  }
 ],
 "metadata": {
  "kernelspec": {
   "display_name": "Python 3",
   "language": "python",
   "name": "python3"
  },
  "language_info": {
   "codemirror_mode": {
    "name": "ipython",
    "version": 3
   },
   "file_extension": ".py",
   "mimetype": "text/x-python",
   "name": "python",
   "nbconvert_exporter": "python",
   "pygments_lexer": "ipython3",
   "version": "3.6.1"
  }
 },
 "nbformat": 4,
 "nbformat_minor": 2
}
