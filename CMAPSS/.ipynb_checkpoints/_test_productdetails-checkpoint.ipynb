{
 "cells": [
  {
   "cell_type": "code",
   "execution_count": 1,
   "metadata": {},
   "outputs": [
    {
     "name": "stderr",
     "output_type": "stream",
     "text": [
      "Using TensorFlow backend.\n"
     ]
    }
   ],
   "source": [
    "import time\n",
    "import os\n",
    "import gzip\n",
    "import pickle\n",
    "import platform\n",
    "import numpy as np\n",
    "import pandas as pd\n",
    "\n",
    "# general keras stuff\n",
    "## will require h5py\n",
    "import keras \n",
    "from keras.optimizers import adam, RMSprop\n",
    "from keras.models import Sequential\n",
    "## layer stacking\n",
    "from keras.layers import Dense, LSTM, Lambda\n",
    "from keras.layers.core import Masking, Reshape\n",
    "## for Sequential data dense layer...\n",
    "from keras.layers.wrappers import TimeDistributed\n",
    "## callbacks\n",
    "from keras.callbacks import EarlyStopping\n",
    "\n",
    "\n",
    "# personal modules\n",
    "\n",
    "## weibull stuff \n",
    "import wbce_objective as obj\n",
    "import wbce_distributional as dist\n",
    "\n",
    "## sourcing data (require psycopg2)\n",
    "import funforsql_blagdon as ffs \n",
    "\n",
    "## import data generator and formatter\n",
    "import formatfortrain as fft\n",
    "from ginny import FormatTransactions \n",
    "\n",
    "## some custom keras callbacks\n",
    "from kcallbacks import SaveValidWeights, TacticalRetreat\n",
    "\n",
    "pklhp = pickle.HIGHEST_PROTOCOL"
   ]
  },
  {
   "cell_type": "code",
   "execution_count": 2,
   "metadata": {
    "collapsed": true
   },
   "outputs": [],
   "source": [
    "# meta settings\n",
    "workers = 4\n",
    "batch_size = 6*4096\n",
    "epochs = 1\n",
    "timeunit = 'week' # valid choices: day, week, month, quarter\n",
    "incl_alltrans_percust = False\n",
    "\n",
    "# names and stuff\n",
    "purpose = 'gprun'\n",
    "device = open('_devicename_.txt').readline()"
   ]
  },
  {
   "cell_type": "code",
   "execution_count": 3,
   "metadata": {
    "collapsed": true
   },
   "outputs": [],
   "source": [
    "# fitting meta\n",
    "modelspec_fname = 'spec05.py'\n",
    "lrbase = .01\n",
    "\n",
    "# for the data\n",
    "#skudex = None\n",
    "skudex = 0\n",
    "\n",
    "# db name\n",
    "skusfname = 'sodapopskus.txt'\n",
    "discardfirstn = 250"
   ]
  },
  {
   "cell_type": "markdown",
   "metadata": {},
   "source": [
    "## Load Transaction Data"
   ]
  },
  {
   "cell_type": "code",
   "execution_count": 4,
   "metadata": {
    "collapsed": true
   },
   "outputs": [],
   "source": [
    "transactions = ffs.gettransactions_cached(skusfname, timeunit='week')"
   ]
  },
  {
   "cell_type": "code",
   "execution_count": 5,
   "metadata": {},
   "outputs": [
    {
     "data": {
      "image/png": "[encoded data removed]",
      "text/plain": [
       "<matplotlib.figure.Figure at 0x16e788400>"
      ]
     },
     "metadata": {},
     "output_type": "display_data"
    }
   ],
   "source": [
    "if device == 'macbookpro':\n",
    "    import matplotlib.pyplot as plt\n",
    "\n",
    "    def get_date_counts(obj):\n",
    "        orddate, subset = obj\n",
    "        return (orddate, len(subset))    \n",
    "\n",
    "    groupedby_orddate = transactions.groupby('orddate_index')\n",
    "    transactions_perorddate = np.array(list(map(get_date_counts, list(groupedby_orddate))))\n",
    "\n",
    "    plt.plot(transactions_perorddate[:,0], transactions_perorddate[:,1])\n",
    "    plt.show()"
   ]
  },
  {
   "cell_type": "code",
   "execution_count": 6,
   "metadata": {
    "collapsed": true
   },
   "outputs": [],
   "source": [
    "discardfirstn = 250"
   ]
  },
  {
   "cell_type": "code",
   "execution_count": 7,
   "metadata": {},
   "outputs": [
    {
     "name": "stdout",
     "output_type": "stream",
     "text": [
      "com:0, split:124, fin:249\n"
     ]
    }
   ],
   "source": [
    "def discardfirst(transactions, n):\n",
    "    dates = transactions.loc[:, 'orddate_index'] - n\n",
    "    transactions.loc[:, 'orddate_index'] = dates\n",
    "    return transactions.loc[dates>=0,:]\n",
    "\n",
    "transactions = discardfirst(transactions, discardfirstn)\n",
    "\n",
    "com, split, fin = ffs.gettimes(transactions)\n",
    "print ('com:%i, split:%i, fin:%i' % (com, split, fin))\n",
    "\n",
    "transtrain = ffs.getdf_intimerange(transactions, com, split)\n",
    "transtest  = ffs.getdf_intimerange(transactions, split, fin)\n",
    "\n",
    "uniqueskus = np.sort(np.unique(transtrain.loc[:, 'product_sku']))"
   ]
  },
  {
   "cell_type": "code",
   "execution_count": 8,
   "metadata": {
    "collapsed": true
   },
   "outputs": [],
   "source": [
    "cid = ffs.getcustid(transtrain)"
   ]
  },
  {
   "cell_type": "markdown",
   "metadata": {},
   "source": [
    "## Some plots"
   ]
  },
  {
   "cell_type": "code",
   "execution_count": null,
   "metadata": {
    "collapsed": true
   },
   "outputs": [],
   "source": [
    "import matplotlib.pyplot as plt"
   ]
  },
  {
   "cell_type": "code",
   "execution_count": null,
   "metadata": {
    "collapsed": true
   },
   "outputs": [],
   "source": [
    "cidall=[]\n",
    "for sku in uniqueskus:\n",
    "    boughtsku = transtrain.loc[:, 'product_sku']==sku\n",
    "    cidall.append(ffs.getcustid(transtrain.loc[boughtsku,:]))"
   ]
  },
  {
   "cell_type": "code",
   "execution_count": null,
   "metadata": {
    "scrolled": false
   },
   "outputs": [],
   "source": [
    "counts = []\n",
    "countsother = []\n",
    "\n",
    "for i in range(len(cidall)):\n",
    "    skuself = uniqueskus[i]\n",
    "    selfinnotself = None\n",
    "    for j in range(len(cidall)):\n",
    "        if not (i == j):\n",
    "            iinj = np.in1d(cidall[i], cidall[j])\n",
    "            if selfinnotself is not None:\n",
    "                selfinnotself = iinj\n",
    "            else:\n",
    "                selfinnotself = np.logical_or(selfinnotself, iinj)\n",
    "                \n",
    "    cidcount = len(cidall[i])\n",
    "    cidcount_other = np.sum(selfinnotself)\n",
    "    #print (cidall[i][selfinnotself])\n",
    "    print ('sku:%10s, counts:%10s, pct_boughtother: %2.2f' % \n",
    "           (str(skuself), str(cidcount), 100*cidcount_other/cidcount))\n",
    "    \n",
    "    counts.append(cidcount)\n",
    "    countsother.append(cidcount_other)"
   ]
  },
  {
   "cell_type": "code",
   "execution_count": null,
   "metadata": {},
   "outputs": [],
   "source": [
    "x = np.arange(len(uniqueskus))\n",
    "width = .8\n",
    "\n",
    "plt.bar(x, counts,      width=width, color='blue', alpha=.5, label='customer counts')\n",
    "plt.bar(x, countsother, width=width, color='red',  alpha=.5, label='bought other')\n",
    "plt.xticks(x)\n",
    "plt.xlabel('sku index')\n",
    "plt.ylabel('counts')\n",
    "plt.title('customer counts')\n",
    "plt.legend()\n",
    "plt.show()"
   ]
  },
  {
   "cell_type": "markdown",
   "metadata": {
    "collapsed": true
   },
   "source": [
    "## number of purchases"
   ]
  },
  {
   "cell_type": "code",
   "execution_count": null,
   "metadata": {
    "collapsed": true
   },
   "outputs": [],
   "source": [
    "def count_npurch_bysku(groupbyobj):\n",
    "    sku, subset = groupbyobj\n",
    "    return (sku, np.array(list(map(count_npurch, subset.groupby('custid')))))"
   ]
  },
  {
   "cell_type": "code",
   "execution_count": null,
   "metadata": {
    "collapsed": true
   },
   "outputs": [],
   "source": [
    "def count_npurch(groupbyobj):\n",
    "    cid, subset=groupbyobj\n",
    "    return (len(subset))"
   ]
  },
  {
   "cell_type": "code",
   "execution_count": null,
   "metadata": {
    "collapsed": true
   },
   "outputs": [],
   "source": [
    "def distn_summaries(npurchs, topcutoff = 50):\n",
    "    print ('mean:', np.nanmean(npurchs))\n",
    "    plt.hist(npurchs[npurchs<=topcutoff], bins = 50, normed = True)\n",
    "    plt.show()\n",
    "    for i in [1,2,3,4,5,10,20,40,50,80,160,320,640]:\n",
    "        print ('pct bought >%5i: %2.2f' % (i, np.sum(npurchs>i)*100/len(npurchs)))"
   ]
  },
  {
   "cell_type": "code",
   "execution_count": null,
   "metadata": {
    "collapsed": true
   },
   "outputs": [],
   "source": [
    "npurchs = np.array(list(map(count_npurch, transtrain.groupby('custid'))))"
   ]
  },
  {
   "cell_type": "code",
   "execution_count": null,
   "metadata": {},
   "outputs": [],
   "source": [
    "dump = distn_summaries(npurchs)"
   ]
  },
  {
   "cell_type": "markdown",
   "metadata": {},
   "source": [
    "### for individual skus"
   ]
  },
  {
   "cell_type": "code",
   "execution_count": null,
   "metadata": {},
   "outputs": [],
   "source": [
    "groupedbysku = transtrain.groupby('product_sku')\n",
    "resl = list(map(count_npurch_bysku, groupedbysku))\n",
    "print (resl)"
   ]
  },
  {
   "cell_type": "code",
   "execution_count": null,
   "metadata": {
    "scrolled": false
   },
   "outputs": [],
   "source": [
    "for i in resl:\n",
    "    sku, npurchs = i\n",
    "    dump = distn_summaries(npurchs)"
   ]
  }
 ],
 "metadata": {
  "kernelspec": {
   "display_name": "Python 3",
   "language": "python",
   "name": "python3"
  },
  "language_info": {
   "codemirror_mode": {
    "name": "ipython",
    "version": 3
   },
   "file_extension": ".py",
   "mimetype": "text/x-python",
   "name": "python",
   "nbconvert_exporter": "python",
   "pygments_lexer": "ipython3",
   "version": "3.6.1"
  }
 },
 "nbformat": 4,
 "nbformat_minor": 2
}
