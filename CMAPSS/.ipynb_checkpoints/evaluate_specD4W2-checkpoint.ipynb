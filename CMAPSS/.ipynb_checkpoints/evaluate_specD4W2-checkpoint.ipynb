{
 "cells": [
  {
   "cell_type": "markdown",
   "metadata": {},
   "source": [
    "# Import modules and define parameters"
   ]
  },
  {
   "cell_type": "code",
   "execution_count": 1,
   "metadata": {
    "collapsed": true
   },
   "outputs": [],
   "source": [
    "import time\n",
    "import os\n",
    "import gzip\n",
    "import pickle\n",
    "import platform\n",
    "import numpy as np\n",
    "import pandas as pd\n",
    "\n",
    "pklhp = pickle.HIGHEST_PROTOCOL"
   ]
  },
  {
   "cell_type": "code",
   "execution_count": 2,
   "metadata": {},
   "outputs": [
    {
     "name": "stderr",
     "output_type": "stream",
     "text": [
      "Using TensorFlow backend.\n"
     ]
    }
   ],
   "source": [
    "from wbce_fitter import RecurrentWBCE"
   ]
  },
  {
   "cell_type": "code",
   "execution_count": 3,
   "metadata": {
    "collapsed": true
   },
   "outputs": [],
   "source": [
    "# database stuff\n",
    "# valid choices: day, week, month, quarter\n",
    "timeunit = 'week' "
   ]
  },
  {
   "cell_type": "code",
   "execution_count": 4,
   "metadata": {
    "collapsed": true
   },
   "outputs": [],
   "source": [
    "# meta settings\n",
    "workers = 4\n",
    "batch_size = 10*4096\n",
    "epochs = 1\n",
    "\n",
    "# names and stuff\n",
    "purpose = 'gprun'\n",
    "modelspecfname = 'specD4W2.py'"
   ]
  },
  {
   "cell_type": "code",
   "execution_count": 5,
   "metadata": {
    "collapsed": true
   },
   "outputs": [],
   "source": [
    "#skudex = None\n",
    "#skudex = 0\n",
    "\n",
    "# db name\n",
    "skusfname = 'sodapopskus.txt'\n",
    "discardfirstn = 250"
   ]
  },
  {
   "cell_type": "markdown",
   "metadata": {},
   "source": [
    "## Load Transaction Data"
   ]
  },
  {
   "cell_type": "code",
   "execution_count": 6,
   "metadata": {
    "collapsed": true
   },
   "outputs": [],
   "source": [
    "import funforsql_blagdon as ffs"
   ]
  },
  {
   "cell_type": "code",
   "execution_count": 7,
   "metadata": {
    "collapsed": true
   },
   "outputs": [],
   "source": [
    "transactions = ffs.gettransactions_cached(skusfname, timeunit=timeunit)\n",
    "transactions = transactions.loc[transactions['ordqty']>0,:]"
   ]
  },
  {
   "cell_type": "code",
   "execution_count": 8,
   "metadata": {},
   "outputs": [
    {
     "name": "stdout",
     "output_type": "stream",
     "text": [
      "com:0, split:124, fin:249\n"
     ]
    }
   ],
   "source": [
    "def discardfirst(transactions, n):\n",
    "    dates = transactions.loc[:, 'orddate_index'] - n\n",
    "    transactions.loc[:, 'orddate_index'] = dates\n",
    "    return transactions.loc[dates>=0,:]\n",
    "\n",
    "transactions = discardfirst(transactions, discardfirstn)\n",
    "\n",
    "com, split, fin = ffs.gettimes(transactions)\n",
    "## note that com needs to be 0 since i didn't bother to account for the case where it isn't 0.\n",
    "print ('com:%i, split:%i, fin:%i' % (com, split, fin))\n",
    "\n",
    "transtrain = ffs.getdf_intimerange(transactions, com, split)\n",
    "transtest  = ffs.getdf_intimerange(transactions, split, fin)\n",
    "\n",
    "uniqueskus = np.sort(np.unique(transtrain.loc[:, 'product_sku']))"
   ]
  },
  {
   "cell_type": "markdown",
   "metadata": {},
   "source": [
    "## Modify source db type, subset transaction table if necessary"
   ]
  },
  {
   "cell_type": "code",
   "execution_count": 9,
   "metadata": {
    "collapsed": true
   },
   "outputs": [],
   "source": [
    "def get_useskus(skudex):   \n",
    "    useskus = uniqueskus\n",
    "    if skudex is not None:\n",
    "        useskus = np.array([uniqueskus[skudex]])\n",
    "    return useskus"
   ]
  },
  {
   "cell_type": "code",
   "execution_count": 10,
   "metadata": {
    "collapsed": true
   },
   "outputs": [],
   "source": [
    "def get_particularsku(skudex):\n",
    "    particularsku = ''\n",
    "    useskus = get_useskus(skudex)\n",
    "    if not (str(useskus) == str(uniqueskus)):\n",
    "        particularsku = str(useskus[0])\n",
    "    return particularsku"
   ]
  },
  {
   "cell_type": "markdown",
   "metadata": {},
   "source": [
    "## Load Validation Data"
   ]
  },
  {
   "cell_type": "code",
   "execution_count": 11,
   "metadata": {
    "collapsed": true
   },
   "outputs": [],
   "source": [
    "def get_validf(skudex):    \n",
    "    particularsku = get_particularsku(skudex)\n",
    "    valdf_fname = skusfname+particularsku+'_'+modelspecfname+'_eval.pkl'+str(pklhp)\n",
    "    validationdf = pickle.load(gzip.open(valdf_fname, 'rb'))\n",
    "    return validationdf"
   ]
  },
  {
   "cell_type": "code",
   "execution_count": 12,
   "metadata": {},
   "outputs": [
    {
     "ename": "FileNotFoundError",
     "evalue": "[Errno 2] No such file or directory: 'sodapopskus.txt_specD4W2.py_eval.pkl4'",
     "output_type": "error",
     "traceback": [
      "\u001b[0;31m---------------------------------------------------------------------------\u001b[0m",
      "\u001b[0;31mFileNotFoundError\u001b[0m                         Traceback (most recent call last)",
      "\u001b[0;32m<ipython-input-12-635480e3d5e8>\u001b[0m in \u001b[0;36m<module>\u001b[0;34m()\u001b[0m\n\u001b[0;32m----> 1\u001b[0;31m \u001b[0mvaliddf_joint\u001b[0m \u001b[0;34m=\u001b[0m \u001b[0mget_validf\u001b[0m\u001b[0;34m(\u001b[0m\u001b[0;32mNone\u001b[0m\u001b[0;34m)\u001b[0m\u001b[0;34m\u001b[0m\u001b[0m\n\u001b[0m\u001b[1;32m      2\u001b[0m \u001b[0mvaliddf_indiv\u001b[0m \u001b[0;34m=\u001b[0m \u001b[0;34m{\u001b[0m\u001b[0;34m}\u001b[0m\u001b[0;34m\u001b[0m\u001b[0m\n\u001b[1;32m      3\u001b[0m \u001b[0mskudex\u001b[0m \u001b[0;34m=\u001b[0m \u001b[0;36m0\u001b[0m\u001b[0;34m\u001b[0m\u001b[0m\n\u001b[1;32m      4\u001b[0m \u001b[0;32mfor\u001b[0m \u001b[0msku\u001b[0m \u001b[0;32min\u001b[0m \u001b[0muniqueskus\u001b[0m\u001b[0;34m:\u001b[0m\u001b[0;34m\u001b[0m\u001b[0m\n\u001b[1;32m      5\u001b[0m     \u001b[0mvaliddf_indiv\u001b[0m\u001b[0;34m[\u001b[0m\u001b[0msku\u001b[0m\u001b[0;34m]\u001b[0m \u001b[0;34m=\u001b[0m \u001b[0mget_validf\u001b[0m\u001b[0;34m(\u001b[0m\u001b[0mskudex\u001b[0m\u001b[0;34m)\u001b[0m\u001b[0;34m\u001b[0m\u001b[0m\n",
      "\u001b[0;32m<ipython-input-11-98f08c8b9c19>\u001b[0m in \u001b[0;36mget_validf\u001b[0;34m(skudex)\u001b[0m\n\u001b[1;32m      2\u001b[0m     \u001b[0mparticularsku\u001b[0m \u001b[0;34m=\u001b[0m \u001b[0mget_particularsku\u001b[0m\u001b[0;34m(\u001b[0m\u001b[0mskudex\u001b[0m\u001b[0;34m)\u001b[0m\u001b[0;34m\u001b[0m\u001b[0m\n\u001b[1;32m      3\u001b[0m     \u001b[0mvaldf_fname\u001b[0m \u001b[0;34m=\u001b[0m \u001b[0mskusfname\u001b[0m\u001b[0;34m+\u001b[0m\u001b[0mparticularsku\u001b[0m\u001b[0;34m+\u001b[0m\u001b[0;34m'_'\u001b[0m\u001b[0;34m+\u001b[0m\u001b[0mmodelspecfname\u001b[0m\u001b[0;34m+\u001b[0m\u001b[0;34m'_eval.pkl'\u001b[0m\u001b[0;34m+\u001b[0m\u001b[0mstr\u001b[0m\u001b[0;34m(\u001b[0m\u001b[0mpklhp\u001b[0m\u001b[0;34m)\u001b[0m\u001b[0;34m\u001b[0m\u001b[0m\n\u001b[0;32m----> 4\u001b[0;31m     \u001b[0mvalidationdf\u001b[0m \u001b[0;34m=\u001b[0m \u001b[0mpickle\u001b[0m\u001b[0;34m.\u001b[0m\u001b[0mload\u001b[0m\u001b[0;34m(\u001b[0m\u001b[0mgzip\u001b[0m\u001b[0;34m.\u001b[0m\u001b[0mopen\u001b[0m\u001b[0;34m(\u001b[0m\u001b[0mvaldf_fname\u001b[0m\u001b[0;34m,\u001b[0m \u001b[0;34m'rb'\u001b[0m\u001b[0;34m)\u001b[0m\u001b[0;34m)\u001b[0m\u001b[0;34m\u001b[0m\u001b[0m\n\u001b[0m\u001b[1;32m      5\u001b[0m     \u001b[0;32mreturn\u001b[0m \u001b[0mvalidationdf\u001b[0m\u001b[0;34m\u001b[0m\u001b[0m\n",
      "\u001b[0;32m/usr/local/Cellar/python3/3.6.1/Frameworks/Python.framework/Versions/3.6/lib/python3.6/gzip.py\u001b[0m in \u001b[0;36mopen\u001b[0;34m(filename, mode, compresslevel, encoding, errors, newline)\u001b[0m\n\u001b[1;32m     51\u001b[0m     \u001b[0mgz_mode\u001b[0m \u001b[0;34m=\u001b[0m \u001b[0mmode\u001b[0m\u001b[0;34m.\u001b[0m\u001b[0mreplace\u001b[0m\u001b[0;34m(\u001b[0m\u001b[0;34m\"t\"\u001b[0m\u001b[0;34m,\u001b[0m \u001b[0;34m\"\"\u001b[0m\u001b[0;34m)\u001b[0m\u001b[0;34m\u001b[0m\u001b[0m\n\u001b[1;32m     52\u001b[0m     \u001b[0;32mif\u001b[0m \u001b[0misinstance\u001b[0m\u001b[0;34m(\u001b[0m\u001b[0mfilename\u001b[0m\u001b[0;34m,\u001b[0m \u001b[0;34m(\u001b[0m\u001b[0mstr\u001b[0m\u001b[0;34m,\u001b[0m \u001b[0mbytes\u001b[0m\u001b[0;34m,\u001b[0m \u001b[0mos\u001b[0m\u001b[0;34m.\u001b[0m\u001b[0mPathLike\u001b[0m\u001b[0;34m)\u001b[0m\u001b[0;34m)\u001b[0m\u001b[0;34m:\u001b[0m\u001b[0;34m\u001b[0m\u001b[0m\n\u001b[0;32m---> 53\u001b[0;31m         \u001b[0mbinary_file\u001b[0m \u001b[0;34m=\u001b[0m \u001b[0mGzipFile\u001b[0m\u001b[0;34m(\u001b[0m\u001b[0mfilename\u001b[0m\u001b[0;34m,\u001b[0m \u001b[0mgz_mode\u001b[0m\u001b[0;34m,\u001b[0m \u001b[0mcompresslevel\u001b[0m\u001b[0;34m)\u001b[0m\u001b[0;34m\u001b[0m\u001b[0m\n\u001b[0m\u001b[1;32m     54\u001b[0m     \u001b[0;32melif\u001b[0m \u001b[0mhasattr\u001b[0m\u001b[0;34m(\u001b[0m\u001b[0mfilename\u001b[0m\u001b[0;34m,\u001b[0m \u001b[0;34m\"read\"\u001b[0m\u001b[0;34m)\u001b[0m \u001b[0;32mor\u001b[0m \u001b[0mhasattr\u001b[0m\u001b[0;34m(\u001b[0m\u001b[0mfilename\u001b[0m\u001b[0;34m,\u001b[0m \u001b[0;34m\"write\"\u001b[0m\u001b[0;34m)\u001b[0m\u001b[0;34m:\u001b[0m\u001b[0;34m\u001b[0m\u001b[0m\n\u001b[1;32m     55\u001b[0m         \u001b[0mbinary_file\u001b[0m \u001b[0;34m=\u001b[0m \u001b[0mGzipFile\u001b[0m\u001b[0;34m(\u001b[0m\u001b[0;32mNone\u001b[0m\u001b[0;34m,\u001b[0m \u001b[0mgz_mode\u001b[0m\u001b[0;34m,\u001b[0m \u001b[0mcompresslevel\u001b[0m\u001b[0;34m,\u001b[0m \u001b[0mfilename\u001b[0m\u001b[0;34m)\u001b[0m\u001b[0;34m\u001b[0m\u001b[0m\n",
      "\u001b[0;32m/usr/local/Cellar/python3/3.6.1/Frameworks/Python.framework/Versions/3.6/lib/python3.6/gzip.py\u001b[0m in \u001b[0;36m__init__\u001b[0;34m(self, filename, mode, compresslevel, fileobj, mtime)\u001b[0m\n\u001b[1;32m    161\u001b[0m             \u001b[0mmode\u001b[0m \u001b[0;34m+=\u001b[0m \u001b[0;34m'b'\u001b[0m\u001b[0;34m\u001b[0m\u001b[0m\n\u001b[1;32m    162\u001b[0m         \u001b[0;32mif\u001b[0m \u001b[0mfileobj\u001b[0m \u001b[0;32mis\u001b[0m \u001b[0;32mNone\u001b[0m\u001b[0;34m:\u001b[0m\u001b[0;34m\u001b[0m\u001b[0m\n\u001b[0;32m--> 163\u001b[0;31m             \u001b[0mfileobj\u001b[0m \u001b[0;34m=\u001b[0m \u001b[0mself\u001b[0m\u001b[0;34m.\u001b[0m\u001b[0mmyfileobj\u001b[0m \u001b[0;34m=\u001b[0m \u001b[0mbuiltins\u001b[0m\u001b[0;34m.\u001b[0m\u001b[0mopen\u001b[0m\u001b[0;34m(\u001b[0m\u001b[0mfilename\u001b[0m\u001b[0;34m,\u001b[0m \u001b[0mmode\u001b[0m \u001b[0;32mor\u001b[0m \u001b[0;34m'rb'\u001b[0m\u001b[0;34m)\u001b[0m\u001b[0;34m\u001b[0m\u001b[0m\n\u001b[0m\u001b[1;32m    164\u001b[0m         \u001b[0;32mif\u001b[0m \u001b[0mfilename\u001b[0m \u001b[0;32mis\u001b[0m \u001b[0;32mNone\u001b[0m\u001b[0;34m:\u001b[0m\u001b[0;34m\u001b[0m\u001b[0m\n\u001b[1;32m    165\u001b[0m             \u001b[0mfilename\u001b[0m \u001b[0;34m=\u001b[0m \u001b[0mgetattr\u001b[0m\u001b[0;34m(\u001b[0m\u001b[0mfileobj\u001b[0m\u001b[0;34m,\u001b[0m \u001b[0;34m'name'\u001b[0m\u001b[0;34m,\u001b[0m \u001b[0;34m''\u001b[0m\u001b[0;34m)\u001b[0m\u001b[0;34m\u001b[0m\u001b[0m\n",
      "\u001b[0;31mFileNotFoundError\u001b[0m: [Errno 2] No such file or directory: 'sodapopskus.txt_specD4W2.py_eval.pkl4'"
     ]
    }
   ],
   "source": [
    "validdf_joint = get_validf(None)\n",
    "validdf_indiv = {}\n",
    "skudex = 0\n",
    "for sku in uniqueskus:\n",
    "    validdf_indiv[sku] = get_validf(skudex)\n",
    "    skudex += 1"
   ]
  },
  {
   "cell_type": "code",
   "execution_count": null,
   "metadata": {
    "collapsed": true
   },
   "outputs": [],
   "source": [
    "print (validdf_joint.head())"
   ]
  },
  {
   "cell_type": "code",
   "execution_count": null,
   "metadata": {
    "collapsed": true
   },
   "outputs": [],
   "source": [
    "validdf_synth = validdf_joint.copy()\n",
    "\n",
    "for key in validdf_indiv:\n",
    "    colname = 'metric'+str(key)\n",
    "    print (colname)\n",
    "    validdf_temp = validdf_indiv[key]\n",
    "    index_temp = validdf_temp.index.values\n",
    "    validdf_synth.loc[:, colname] = float('nan')\n",
    "    validdf_synth.loc[index_temp, colname] = validdf_temp.loc[index_temp,colname]\n",
    "    \n",
    "print (validdf_synth.head())"
   ]
  },
  {
   "cell_type": "code",
   "execution_count": null,
   "metadata": {
    "collapsed": true
   },
   "outputs": [],
   "source": [
    "import matplotlib.pyplot as plt\n",
    "from sklearn.metrics import roc_curve\n",
    "from sklearn.metrics import roc_auc_score\n",
    "\n",
    "def getrocmetrics(truth, metric):\n",
    "    fpr, tpr, _ = roc_curve(truth, metric)\n",
    "    area = roc_auc_score(truth, metric)\n",
    "    return fpr, tpr, area"
   ]
  },
  {
   "cell_type": "code",
   "execution_count": null,
   "metadata": {
    "collapsed": true
   },
   "outputs": [],
   "source": [
    "truth  = np.array([])\n",
    "jointmetric = np.array([])\n",
    "synthmetric = np.array([])\n",
    "\n",
    "for sku in uniqueskus:\n",
    "    truthcolname = 'truth'+str(sku)\n",
    "    metriccolname = 'metric'+str(sku)\n",
    "    truth = np.concatenate([truth, validdf_joint.loc[:, truthcolname]])\n",
    "    \n",
    "    jointmetric = np.concatenate([jointmetric, validdf_joint.loc[:, metriccolname]])\n",
    "    metrictemp = np.copy(validdf_synth.loc[:, metriccolname])\n",
    "    metrictemp[np.isnan(metrictemp)] = 0    \n",
    "    synthmetric = np.concatenate([synthmetric, metrictemp])\n",
    "    \n",
    "fpr, tpr, area = getrocmetrics(truth, jointmetric)\n",
    "print ('joint predictions')\n",
    "print (area)\n",
    "plt.plot(fpr, tpr, color = 'blue')\n",
    "plt.plot(fpr, fpr, color = 'red', ls = '--')\n",
    "plt.show()\n",
    "\n",
    "fpr, tpr, area = getrocmetrics(truth, synthmetric)\n",
    "print ('synthetic predictions')\n",
    "print (area)\n",
    "plt.plot(fpr, tpr, color = 'blue')\n",
    "plt.plot(fpr, fpr, color = 'red', ls = '--')\n",
    "plt.show()"
   ]
  },
  {
   "cell_type": "code",
   "execution_count": null,
   "metadata": {
    "collapsed": true,
    "scrolled": false
   },
   "outputs": [],
   "source": [
    "for sku in uniqueskus:\n",
    "    truthcolname = 'truth'+str(sku)\n",
    "    metriccolname = 'metric'+str(sku)\n",
    "    buyintrain = np.logical_not(np.isnan(validdf_synth[metriccolname]))\n",
    "    print ('number bought sku:%s in train:%i' % (str(sku), np.sum(buyintrain)))\n",
    "\n",
    "    \n",
    "    # for buyers of this sku\n",
    "    print ('\\npredictions for sku:%s, for buyers of this sku' % str(sku))\n",
    "    plt.close()\n",
    "    fig, axarr = plt.subplots(nrows=1, ncols=2, figsize = (10, 4))\n",
    "    \n",
    "    truth = validdf_joint.loc[buyintrain, truthcolname]\n",
    "    metric = validdf_joint.loc[buyintrain, metriccolname]\n",
    "    fpr, tpr, area = getrocmetrics(truth, metric)\n",
    "    \n",
    "    axarr[0].plot(fpr, tpr, color = 'blue')\n",
    "    axarr[0].plot(fpr, fpr, color = 'red', ls = '--')\n",
    "    axarr[0].set_title('joint predictions for buyers of this sku')\n",
    "    print (area)\n",
    "    \n",
    "    truth = validdf_synth.loc[buyintrain, truthcolname]\n",
    "    metric = validdf_synth.loc[buyintrain, metriccolname]\n",
    "    fpr, tpr, area = getrocmetrics(truth, metric)\n",
    "    \n",
    "    axarr[1].plot(fpr, tpr, color = 'blue')\n",
    "    axarr[1].plot(fpr, fpr, color = 'red', ls = '--')\n",
    "    axarr[1].set_title('indiv predictions for buyers of this sku')\n",
    "    print (area)\n",
    "        \n",
    "    plt.show()\n",
    "    \n",
    "\n",
    "    # for all buyers\n",
    "    print ('\\npredictions for sku:%s, for all buyers' % str(sku))\n",
    "    plt.close()\n",
    "    fig, axarr = plt.subplots(nrows=1, ncols=2, figsize = (10, 4))\n",
    "    \n",
    "    truth = validdf_joint.loc[:, truthcolname]\n",
    "    metric = validdf_joint.loc[:, metriccolname]\n",
    "    fpr, tpr, area = getrocmetrics(truth, metric)\n",
    "    \n",
    "    axarr[0].plot(fpr, tpr, color = 'blue')\n",
    "    axarr[0].plot(fpr, fpr, color = 'red', ls = '--')\n",
    "    axarr[0].set_title('joint predictions for all buyers')\n",
    "    print (area)\n",
    "    \n",
    "    truth = validdf_synth.loc[:, truthcolname]\n",
    "    metric = np.copy(validdf_synth.loc[:, metriccolname])\n",
    "    metric[np.isnan(metric)] = 0\n",
    "    fpr, tpr, area = getrocmetrics(truth, metric)\n",
    "    \n",
    "    axarr[1].plot(fpr, tpr, color = 'blue')\n",
    "    axarr[1].plot(fpr, fpr, color = 'red', ls = '--')\n",
    "    axarr[1].set_title('indiv predictions for all buyers, padded')\n",
    "    print (area)\n",
    "        \n",
    "    plt.show()"
   ]
  },
  {
   "cell_type": "code",
   "execution_count": null,
   "metadata": {
    "collapsed": true
   },
   "outputs": [],
   "source": [
    "\n"
   ]
  }
 ],
 "metadata": {
  "kernelspec": {
   "display_name": "Python 3",
   "language": "python",
   "name": "python3"
  },
  "language_info": {
   "codemirror_mode": {
    "name": "ipython",
    "version": 3
   },
   "file_extension": ".py",
   "mimetype": "text/x-python",
   "name": "python",
   "nbconvert_exporter": "python",
   "pygments_lexer": "ipython3",
   "version": "3.6.1"
  }
 },
 "nbformat": 4,
 "nbformat_minor": 2
}
