{
 "cells": [
  {
   "cell_type": "code",
   "execution_count": 1,
   "metadata": {},
   "outputs": [
    {
     "name": "stdout",
     "output_type": "stream",
     "text": [
      "/Users/tianlechen/Documents/GitHub/Togepi/tianle-rxplenishment/gru_arrivaltimes/run_crusoely/blagdon_sodapop_jointbb\n"
     ]
    }
   ],
   "source": [
    "import gzip\n",
    "import pickle\n",
    "\n",
    "import numpy as np\n",
    "import pandas as pd\n",
    "import psycopg2 as pg\n",
    "\n",
    "pklhp = pickle.HIGHEST_PROTOCOL\n",
    "\n",
    "import os\n",
    "cwd = os.getcwd()\n",
    "print (cwd)"
   ]
  },
  {
   "cell_type": "code",
   "execution_count": 2,
   "metadata": {
    "collapsed": true
   },
   "outputs": [],
   "source": [
    "testing = True\n",
    "modelspecfname = 'd1w8'"
   ]
  },
  {
   "cell_type": "markdown",
   "metadata": {},
   "source": [
    "# Source transactions of interest"
   ]
  },
  {
   "cell_type": "code",
   "execution_count": 3,
   "metadata": {},
   "outputs": [
    {
     "name": "stdout",
     "output_type": "stream",
     "text": [
      "skusfname: sodapopskus.txt\n",
      "timeunit: week\n",
      "      custid  ordqty  product_sku                date\n",
      "0  9623203.0     2.0      10201.0 2013-02-09 20:20:47\n",
      "1  9475196.0     1.0      10201.0 2013-01-08 14:16:45\n",
      "2   524466.0     1.0      10201.0 2013-01-08 13:39:34\n",
      "3  7646254.0     2.0      10201.0 2013-03-05 17:13:34\n",
      "4  9074093.0     1.0      10201.0 2014-06-04 13:39:00\n"
     ]
    }
   ],
   "source": [
    "import funforsql as ffs\n",
    "alltrans = ffs.gettransactions()\n",
    "if testing: print (alltrans.head(5))"
   ]
  },
  {
   "cell_type": "code",
   "execution_count": 4,
   "metadata": {},
   "outputs": [
    {
     "name": "stdout",
     "output_type": "stream",
     "text": [
      "tstart:\t2014-01-01 00:00:00\n",
      "ttrain:\t2015-06-30 00:00:00\n",
      "tend:\t2015-07-31 00:00:00\n"
     ]
    }
   ],
   "source": [
    "d = pickle.load(gzip.open('dates2.pkl' + str(pklhp), 'rb'))\n",
    "if testing: \n",
    "    for k in d:\n",
    "        print ('%s:\\t%s' % (k, d[k]))"
   ]
  },
  {
   "cell_type": "code",
   "execution_count": 5,
   "metadata": {
    "collapsed": true
   },
   "outputs": [],
   "source": [
    "inrange = alltrans['date'] >= d['tstart']\n",
    "inrange = np.logical_and(inrange, alltrans['date'] <= d['tend'])\n",
    "alltrans = alltrans.loc[inrange, :]"
   ]
  },
  {
   "cell_type": "code",
   "execution_count": 6,
   "metadata": {
    "collapsed": true
   },
   "outputs": [],
   "source": [
    "intraining = alltrans['date'] >= d['tstart']\n",
    "intraining = np.logical_and(intraining, alltrans['date'] <= d['ttrain'])\n",
    "alltrans_train = alltrans.loc[intraining, :]"
   ]
  },
  {
   "cell_type": "code",
   "execution_count": 7,
   "metadata": {
    "collapsed": true
   },
   "outputs": [],
   "source": [
    "intesting = alltrans['date'] >= d['ttrain']\n",
    "intesting = np.logical_and(intesting, alltrans['date'] <= d['tend'])\n",
    "alltrans_test = alltrans.loc[intesting, :]"
   ]
  },
  {
   "cell_type": "markdown",
   "metadata": {
    "collapsed": true
   },
   "source": [
    "# Set up some global parameters"
   ]
  },
  {
   "cell_type": "code",
   "execution_count": 8,
   "metadata": {
    "collapsed": true
   },
   "outputs": [],
   "source": [
    "def datestrrep(dt):\n",
    "    return str(dt.strftime('%Y-%m-%d'))"
   ]
  },
  {
   "cell_type": "code",
   "execution_count": 9,
   "metadata": {},
   "outputs": [
    {
     "name": "stdout",
     "output_type": "stream",
     "text": [
      "len unique allcids 341957\n"
     ]
    }
   ],
   "source": [
    "allcids = np.unique(np.array(alltrans_train['custid']))\n",
    "print ('len unique allcids', len(allcids))"
   ]
  },
  {
   "cell_type": "code",
   "execution_count": 10,
   "metadata": {},
   "outputs": [
    {
     "name": "stdout",
     "output_type": "stream",
     "text": [
      "[  10201.   37852.   64330.   83092.  120768.  137538.  140363.  181042.]\n",
      "len(allskus): 8\n"
     ]
    }
   ],
   "source": [
    "allskus = np.sort(np.unique(np.array(alltrans.loc[:, 'product_sku'])))\n",
    "print (allskus)\n",
    "print('len(allskus):', len(allskus))"
   ]
  },
  {
   "cell_type": "code",
   "execution_count": 11,
   "metadata": {},
   "outputs": [
    {
     "name": "stdout",
     "output_type": "stream",
     "text": [
      "len alltimes 78\n",
      "DatetimeIndex(['2014-01-01', '2014-01-08', '2014-01-15', '2014-01-22',\n",
      "               '2014-01-29', '2014-02-05', '2014-02-12', '2014-02-19',\n",
      "               '2014-02-26', '2014-03-05'],\n",
      "              dtype='datetime64[ns]', freq='7D')\n"
     ]
    }
   ],
   "source": [
    "alltimes = pickle.load(gzip.open('rfmcache_alltimes.pkl' + str(pklhp), 'rb'))\n",
    "print ('len alltimes', len(alltimes))\n",
    "print (alltimes[:10])"
   ]
  },
  {
   "cell_type": "markdown",
   "metadata": {},
   "source": [
    "# Source metric"
   ]
  },
  {
   "cell_type": "code",
   "execution_count": 12,
   "metadata": {},
   "outputs": [
    {
     "data": {
      "text/plain": [
       "(341957, 8, 1)"
      ]
     },
     "execution_count": 12,
     "metadata": {},
     "output_type": "execute_result"
    }
   ],
   "source": [
    "metricfname = 'fitmodel_metric_%s.pkl%s' % (modelspecfname, pklhp) #fitmodel_metric_D1W8.pkl4\n",
    "metric = pickle.load(gzip.open(metricfname, 'rb'))\n",
    "metric.shape"
   ]
  },
  {
   "cell_type": "code",
   "execution_count": 13,
   "metadata": {
    "collapsed": true
   },
   "outputs": [],
   "source": [
    "truth = np.zeros(metric.shape)\n",
    "skudex = 0\n",
    "for sku in allskus:\n",
    "    custid_havebought = alltrans_test['custid'][alltrans_test['product_sku'] == sku]\n",
    "    truth[:,skudex,0] = np.in1d(allcids, custid_havebought)\n",
    "    skudex += 1"
   ]
  },
  {
   "cell_type": "code",
   "execution_count": 14,
   "metadata": {},
   "outputs": [
    {
     "name": "stdout",
     "output_type": "stream",
     "text": [
      "0.844071980503\n",
      "0.834325993476\n",
      "0.820919689914\n",
      "0.857278678425\n",
      "0.848249455378\n",
      "0.845595945542\n",
      "0.878418870649\n",
      "0.850597769265\n"
     ]
    }
   ],
   "source": [
    "import sklearn.metrics as sklm\n",
    "for skudex in range(len(allskus)):\n",
    "    print (sklm.roc_auc_score(truth[:,skudex,0], metric[:,skudex,0]))"
   ]
  },
  {
   "cell_type": "code",
   "execution_count": 15,
   "metadata": {},
   "outputs": [
    {
     "name": "stdout",
     "output_type": "stream",
     "text": [
      "0.800039242792\n",
      "0.767924596235\n",
      "0.789511644868\n",
      "0.801034965594\n",
      "0.791549669996\n",
      "0.810149656885\n",
      "0.808621611217\n",
      "0.820644886878\n"
     ]
    }
   ],
   "source": [
    "import sklearn.metrics as sklm\n",
    "skudex = 0\n",
    "for sku in allskus:\n",
    "    custid_relevant = alltrans_train['custid'][alltrans_train['product_sku'] == sku]\n",
    "    relevant = np.in1d(allcids, custid_relevant)\n",
    "    print (sklm.roc_auc_score(truth[relevant,skudex,0], metric[relevant,skudex,0]))\n",
    "    skudex += 1"
   ]
  },
  {
   "cell_type": "code",
   "execution_count": null,
   "metadata": {
    "collapsed": true
   },
   "outputs": [],
   "source": []
  }
 ],
 "metadata": {
  "kernelspec": {
   "display_name": "Python 3",
   "language": "python",
   "name": "python3"
  },
  "language_info": {
   "codemirror_mode": {
    "name": "ipython",
    "version": 3
   },
   "file_extension": ".py",
   "mimetype": "text/x-python",
   "name": "python",
   "nbconvert_exporter": "python",
   "pygments_lexer": "ipython3",
   "version": "3.6.1"
  }
 },
 "nbformat": 4,
 "nbformat_minor": 2
}
