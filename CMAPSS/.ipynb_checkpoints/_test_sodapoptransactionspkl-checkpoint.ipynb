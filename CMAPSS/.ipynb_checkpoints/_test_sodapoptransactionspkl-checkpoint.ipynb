{
 "cells": [
  {
   "cell_type": "code",
   "execution_count": 5,
   "metadata": {
    "collapsed": true
   },
   "outputs": [],
   "source": [
    "import pandas as pd\n",
    "import gzip\n",
    "import pickle\n",
    "\n",
    "#fname='sodapopskus.txt_transactions_timeunit_week_cache_13skus.pkl4'\n",
    "#fname='sodapopskus.txt_transactions_timeunit_week_cache.pkl4 1.40.08 PM'\n",
    "fname='sodapopskus.txt_transactions_timeunit_week_cache.pkl4 1.51.25 PM'\n",
    "df=pickle.load(gzip.open(fname, 'rb'))"
   ]
  },
  {
   "cell_type": "code",
   "execution_count": 6,
   "metadata": {},
   "outputs": [
    {
     "data": {
      "text/html": [
       "<div>\n",
       "<style>\n",
       "    .dataframe thead tr:only-child th {\n",
       "        text-align: right;\n",
       "    }\n",
       "\n",
       "    .dataframe thead th {\n",
       "        text-align: left;\n",
       "    }\n",
       "\n",
       "    .dataframe tbody tr th {\n",
       "        vertical-align: top;\n",
       "    }\n",
       "</style>\n",
       "<table border=\"1\" class=\"dataframe\">\n",
       "  <thead>\n",
       "    <tr style=\"text-align: right;\">\n",
       "      <th></th>\n",
       "      <th>custid</th>\n",
       "      <th>ordqty</th>\n",
       "      <th>product_sku</th>\n",
       "      <th>orddate_index</th>\n",
       "    </tr>\n",
       "  </thead>\n",
       "  <tbody>\n",
       "    <tr>\n",
       "      <th>0</th>\n",
       "      <td>1064212.0</td>\n",
       "      <td>1</td>\n",
       "      <td>10201.0</td>\n",
       "      <td>313</td>\n",
       "    </tr>\n",
       "    <tr>\n",
       "      <th>1</th>\n",
       "      <td>1064212.0</td>\n",
       "      <td>1</td>\n",
       "      <td>10201.0</td>\n",
       "      <td>313</td>\n",
       "    </tr>\n",
       "    <tr>\n",
       "      <th>2</th>\n",
       "      <td>1064212.0</td>\n",
       "      <td>1</td>\n",
       "      <td>10201.0</td>\n",
       "      <td>313</td>\n",
       "    </tr>\n",
       "    <tr>\n",
       "      <th>3</th>\n",
       "      <td>728.0</td>\n",
       "      <td>1</td>\n",
       "      <td>10201.0</td>\n",
       "      <td>293</td>\n",
       "    </tr>\n",
       "    <tr>\n",
       "      <th>4</th>\n",
       "      <td>6237182.0</td>\n",
       "      <td>1</td>\n",
       "      <td>10201.0</td>\n",
       "      <td>334</td>\n",
       "    </tr>\n",
       "    <tr>\n",
       "      <th>5</th>\n",
       "      <td>8281455.0</td>\n",
       "      <td>1</td>\n",
       "      <td>10201.0</td>\n",
       "      <td>310</td>\n",
       "    </tr>\n",
       "    <tr>\n",
       "      <th>6</th>\n",
       "      <td>3221056.0</td>\n",
       "      <td>1</td>\n",
       "      <td>10201.0</td>\n",
       "      <td>323</td>\n",
       "    </tr>\n",
       "    <tr>\n",
       "      <th>7</th>\n",
       "      <td>3221056.0</td>\n",
       "      <td>1</td>\n",
       "      <td>10201.0</td>\n",
       "      <td>323</td>\n",
       "    </tr>\n",
       "    <tr>\n",
       "      <th>8</th>\n",
       "      <td>3946135.0</td>\n",
       "      <td>1</td>\n",
       "      <td>10201.0</td>\n",
       "      <td>403</td>\n",
       "    </tr>\n",
       "    <tr>\n",
       "      <th>9</th>\n",
       "      <td>1977178.0</td>\n",
       "      <td>1</td>\n",
       "      <td>10201.0</td>\n",
       "      <td>397</td>\n",
       "    </tr>\n",
       "  </tbody>\n",
       "</table>\n",
       "</div>"
      ],
      "text/plain": [
       "      custid ordqty  product_sku  orddate_index\n",
       "0  1064212.0      1      10201.0            313\n",
       "1  1064212.0      1      10201.0            313\n",
       "2  1064212.0      1      10201.0            313\n",
       "3      728.0      1      10201.0            293\n",
       "4  6237182.0      1      10201.0            334\n",
       "5  8281455.0      1      10201.0            310\n",
       "6  3221056.0      1      10201.0            323\n",
       "7  3221056.0      1      10201.0            323\n",
       "8  3946135.0      1      10201.0            403\n",
       "9  1977178.0      1      10201.0            397"
      ]
     },
     "execution_count": 6,
     "metadata": {},
     "output_type": "execute_result"
    }
   ],
   "source": [
    "df.head(10)"
   ]
  },
  {
   "cell_type": "code",
   "execution_count": 8,
   "metadata": {},
   "outputs": [],
   "source": [
    "import numpy as np\n",
    "skusdesired=np.array([140363, 83092, 64330, 137538])\n",
    "relevant=np.in1d(df['product_sku'], skusdesired)\n",
    "pickle.dump(df.loc[relevant,:], gzip.open('sodapopskus.txt_transactions_timeunit_week_cache.pkl4', 'wb'), -1)"
   ]
  },
  {
   "cell_type": "code",
   "execution_count": null,
   "metadata": {
    "collapsed": true
   },
   "outputs": [],
   "source": []
  }
 ],
 "metadata": {
  "kernelspec": {
   "display_name": "Python 3",
   "language": "python",
   "name": "python3"
  },
  "language_info": {
   "codemirror_mode": {
    "name": "ipython",
    "version": 3
   },
   "file_extension": ".py",
   "mimetype": "text/x-python",
   "name": "python",
   "nbconvert_exporter": "python",
   "pygments_lexer": "ipython3",
   "version": "3.6.1"
  }
 },
 "nbformat": 4,
 "nbformat_minor": 2
}
