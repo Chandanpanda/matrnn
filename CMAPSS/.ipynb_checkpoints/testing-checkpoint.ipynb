{
 "cells": [
  {
   "cell_type": "code",
   "execution_count": 1,
   "metadata": {
    "collapsed": true
   },
   "outputs": [],
   "source": [
    "import gzip\n",
    "import pickle\n",
    "pklhp = pickle.HIGHEST_PROTOCOL"
   ]
  },
  {
   "cell_type": "code",
   "execution_count": 2,
   "metadata": {
    "collapsed": true
   },
   "outputs": [],
   "source": [
    "fname = 'sodapopskus.txt_allrfmincr_timeunit_week.pkl2'\n",
    "allrfm = pickle.load(gzip.open(fname, 'rb'), encoding='latin1')"
   ]
  },
  {
   "cell_type": "code",
   "execution_count": 3,
   "metadata": {},
   "outputs": [
    {
     "name": "stdout",
     "output_type": "stream",
     "text": [
      "104586\n",
      "       custid  recency  frequency   spend\n",
      "0  19102766.0        1        147  590.73\n",
      "1  24069669.0        1        132  398.86\n",
      "2   5314262.0        1         85  246.30\n",
      "3  19123535.0        1         84  106.56\n",
      "4  19115821.0        1         32   50.70\n"
     ]
    }
   ],
   "source": [
    "k = 104586\n",
    "print (k)\n",
    "print (allrfm[k].head(5))"
   ]
  },
  {
   "cell_type": "code",
   "execution_count": 4,
   "metadata": {
    "collapsed": true
   },
   "outputs": [],
   "source": [
    "fname = 'sodapopskus.txt_transactions_timeunit_week.pkl4'\n",
    "alltrans = pickle.load(gzip.open(fname, 'rb'), encoding='latin1')"
   ]
  },
  {
   "cell_type": "code",
   "execution_count": 5,
   "metadata": {
    "scrolled": true
   },
   "outputs": [
    {
     "name": "stdout",
     "output_type": "stream",
     "text": [
      "      custid  ordqty  product_sku  orddate_units  orddate_year  \\\n",
      "0  9339854.0     1.0      10201.0             22          2014   \n",
      "1  7718924.0     2.0      10201.0             22          2014   \n",
      "2   965138.0     1.0      10201.0             21          2013   \n",
      "3  8354239.0     2.0      10201.0             22          2014   \n",
      "4   574966.0     1.0      10201.0             46          2013   \n",
      "\n",
      "   orddate_index_absolute  orddate_index  \n",
      "0                  104750            364  \n",
      "1                  104750            364  \n",
      "2                  104697            311  \n",
      "3                  104750            364  \n",
      "4                  104722            336  \n"
     ]
    }
   ],
   "source": [
    "print(alltrans.head(5))"
   ]
  },
  {
   "cell_type": "code",
   "execution_count": 8,
   "metadata": {
    "collapsed": true
   },
   "outputs": [],
   "source": [
    "import timeseries_transformations as tstfs\n",
    "import numpy as np"
   ]
  },
  {
   "cell_type": "code",
   "execution_count": 10,
   "metadata": {},
   "outputs": [
    {
     "data": {
      "text/plain": [
       "array([0, 0, 1, 0, 0, 1, 1, 1])"
      ]
     },
     "execution_count": 10,
     "metadata": {},
     "output_type": "execute_result"
    }
   ],
   "source": [
    "ind = np.array([0,0,1,0,0,1,1,0])\n",
    "ind"
   ]
  },
  {
   "cell_type": "code",
   "execution_count": 12,
   "metadata": {
    "collapsed": true
   },
   "outputs": [],
   "source": [
    "tse, tte, notcensored = tstfs.get(ind)"
   ]
  }
 ],
 "metadata": {
  "kernelspec": {
   "display_name": "Python 3",
   "language": "python",
   "name": "python3"
  },
  "language_info": {
   "codemirror_mode": {
    "name": "ipython",
    "version": 3
   },
   "file_extension": ".py",
   "mimetype": "text/x-python",
   "name": "python",
   "nbconvert_exporter": "python",
   "pygments_lexer": "ipython3",
   "version": "3.6.1"
  }
 },
 "nbformat": 4,
 "nbformat_minor": 2
}
