{
 "cells": [
  {
   "cell_type": "code",
   "execution_count": 1,
   "metadata": {
    "collapsed": true
   },
   "outputs": [],
   "source": [
    "import funforsql_blagdon as ffs\n",
    "import pandas as pd\n",
    "import psycopg2 as pg\n",
    "import numpy as np"
   ]
  },
  {
   "cell_type": "code",
   "execution_count": 2,
   "metadata": {
    "scrolled": true
   },
   "outputs": [
    {
     "name": "stdout",
     "output_type": "stream",
     "text": [
      "      custid  ordqty  product_sku  orddate_units  orddate_year  \\\n",
      "0  9339854.0     1.0      10201.0             22          2014   \n",
      "1  7718924.0     2.0      10201.0             22          2014   \n",
      "2   965138.0     1.0      10201.0             21          2013   \n",
      "3  8354239.0     2.0      10201.0             22          2014   \n",
      "4   574966.0     1.0      10201.0             46          2013   \n",
      "\n",
      "   orddate_index_absolute  orddate_index  \n",
      "0                  104750            364  \n",
      "1                  104750            364  \n",
      "2                  104697            311  \n",
      "3                  104750            364  \n",
      "4                  104722            336  \n"
     ]
    }
   ],
   "source": [
    "skusfname = 'sodapopskus.txt'\n",
    "sku_tupstr = open(skusfname).readline().strip()\n",
    "timeunit = 'week'\n",
    "\n",
    "transall = ffs.gettransactions_cached(skusfname)\n",
    "print (transall.head())"
   ]
  },
  {
   "cell_type": "code",
   "execution_count": 3,
   "metadata": {},
   "outputs": [
    {
     "name": "stdout",
     "output_type": "stream",
     "text": [
      "week 52\n"
     ]
    }
   ],
   "source": [
    "with open('blagdon_cred.txt') as f:\n",
    "    usr = f.readline().strip()\n",
    "    pwd = f.readline().strip()\n",
    "    \n",
    "datepartmeta = {'day'    :('dayofyear', 365),\n",
    "                'week'   :('week',      52 ), \n",
    "                'month'  :('month',     12 ),\n",
    "                'quarter':('quarter',   4  )}\n",
    "    \n",
    "datepartsql, unitsinyear = datepartmeta[timeunit]\n",
    "print (datepartsql, unitsinyear)"
   ]
  },
  {
   "cell_type": "markdown",
   "metadata": {},
   "source": [
    "# Set up min and max times in terms of time units"
   ]
  },
  {
   "cell_type": "code",
   "execution_count": null,
   "metadata": {
    "collapsed": true
   },
   "outputs": [],
   "source": [
    "orddate_wheremin = transall['orddate_index'] == min(transall['orddate_index'])\n",
    "orddate_wheremax = transall['orddate_index'] == max(transall['orddate_index'])\n",
    "\n",
    "vals = np.array(transall.loc[orddate_wheremin, ['orddate_index_absolute']])[0,:]\n",
    "orddate_index_absolute_min = vals[0]\n",
    "\n",
    "vals = np.array(transall.loc[orddate_wheremax, ['orddate_index_absolute']])[0,:]\n",
    "orddate_index_absolute_max = vals[0]"
   ]
  },
  {
   "cell_type": "markdown",
   "metadata": {},
   "source": [
    "# Setup SQL commands to do stuff on server"
   ]
  },
  {
   "cell_type": "code",
   "execution_count": null,
   "metadata": {
    "collapsed": true
   },
   "outputs": [],
   "source": [
    "# setup connection\n",
    "conn = pg.connect(\"dbname='blagdon' \" + \\\n",
    "                  \"user='%s' \" % usr + \\\n",
    "                  \"host='prod-blagdon.c3dswjg84n8q.eu-west-1.redshift.amazonaws.com'\" + \\\n",
    "                  \"port=5439 password='%s'\" % pwd)"
   ]
  },
  {
   "cell_type": "markdown",
   "metadata": {},
   "source": [
    "## Get table of customer ids"
   ]
  },
  {
   "cell_type": "code",
   "execution_count": null,
   "metadata": {
    "collapsed": true
   },
   "outputs": [],
   "source": [
    "cur = conn.cursor()\n",
    "# drop temp table\n",
    "cur.execute ('''DROP TABLE IF EXISTS tchen.tempcids''')\n",
    "# create temp table on server\n",
    "query_createtable_tempcids = '''\n",
    "    CREATE TABLE tchen.tempcids AS\n",
    "    SELECT member_key \n",
    "        FROM rawdata.b_transaction_rk\n",
    "        WHERE product_key IN %s AND member_key != 0 AND item_quantity_val > 0''' %\\\n",
    "    (sku_tupstr)\n",
    "cur.execute(query_createtable_tempcids)\n",
    "conn.commit()"
   ]
  },
  {
   "cell_type": "markdown",
   "metadata": {},
   "source": [
    "## Get table of relevant metrics for RFM"
   ]
  },
  {
   "cell_type": "code",
   "execution_count": null,
   "metadata": {
    "collapsed": true
   },
   "outputs": [],
   "source": [
    "cur = conn.cursor()\n",
    "# drop temp table\n",
    "cur.execute ('''DROP TABLE IF EXISTS tchen.temptrans''')\n",
    "# create temp table on server\n",
    "query_createtable_temptrans = '''\n",
    "    CREATE TABLE tchen.temptrans AS\n",
    "        SELECT A.member_key AS custid,\n",
    "            A.item_amt as spend,\n",
    "            A.item_quantity_val AS ordqty,\n",
    "            DATEPART(%s, A.transaction_dt) AS orddate_units,\n",
    "            DATEPART(year, A.transaction_dt) AS orddate_year,\n",
    "            DATEPART(%s, A.transaction_dt) + %s * DATEPART(year, A.transaction_dt) AS orddate_index_absolute\n",
    "            FROM rawdata.b_transaction_rk AS A\n",
    "                INNER JOIN tchen.tempcids AS B\n",
    "                ON A.member_key = B.member_key \n",
    "            WHERE A.item_quantity_val > 0''' %\\\n",
    "    (datepartsql, datepartsql, unitsinyear)\n",
    "cur.execute(query_createtable_temptrans)\n",
    "conn.commit()"
   ]
  },
  {
   "cell_type": "markdown",
   "metadata": {},
   "source": [
    "## Do RFM for each time unit group by customer id"
   ]
  },
  {
   "cell_type": "code",
   "execution_count": null,
   "metadata": {
    "collapsed": true
   },
   "outputs": [],
   "source": [
    "print (datepartsql, unitsinyear)\n",
    "print (orddate_index_absolute_min, orddate_index_absolute_max)"
   ]
  },
  {
   "cell_type": "code",
   "execution_count": null,
   "metadata": {
    "collapsed": true,
    "scrolled": true
   },
   "outputs": [],
   "source": [
    "# RFM (recency, frequency, monetary)\n",
    "def getrfm(orddate_index, conn):\n",
    "    cur = conn.cursor()\n",
    "    cur.execute ('''DROP TABLE IF EXISTS tchen.temprfm''')\n",
    "    query_createtable_temptrans = '''\n",
    "        CREATE TABLE tchen.temprfm AS\n",
    "            SELECT custid,\n",
    "                MIN(%s - orddate_index_absolute) AS recency,\n",
    "                COUNT(*) AS frequency,\n",
    "                SUM(spend) AS spend\n",
    "                FROM tchen.temptrans\n",
    "                WHERE ordqty > 0 AND orddate_index_absolute < %s AND orddate_index_absolute >= %s\n",
    "                GROUP BY custid''' %\\\n",
    "        (orddate_index, orddate_index, orddate_index - 1)\n",
    "    cur.execute(query_createtable_temptrans)\n",
    "    return pd.read_sql_query('''SELECT * FROM tchen.temprfm''', conn)"
   ]
  },
  {
   "cell_type": "markdown",
   "metadata": {},
   "source": [
    "at 100 remain, takes 16s\n",
    "\n",
    "at 80 remain, takes 50s\n",
    "\n",
    "need to find a way to run faster OR post process"
   ]
  },
  {
   "cell_type": "code",
   "execution_count": null,
   "metadata": {
    "collapsed": true,
    "scrolled": true
   },
   "outputs": [],
   "source": [
    "allrfm = {}\n",
    "for orddate_index in range(orddate_index_absolute_min, orddate_index_absolute_max + 1):\n",
    "    print ('doing rfm for orddate_index: %s, remaining: %s' %\\\n",
    "           (str(orddate_index), str(orddate_index_absolute_max + 1 - orddate_index)))\n",
    "    allrfm[orddate_index] = getrfm(orddate_index, conn)"
   ]
  },
  {
   "cell_type": "code",
   "execution_count": null,
   "metadata": {
    "collapsed": true
   },
   "outputs": [],
   "source": [
    "print (allrfm[orddate_index_absolute_min+1])"
   ]
  },
  {
   "cell_type": "code",
   "execution_count": null,
   "metadata": {
    "collapsed": true
   },
   "outputs": [],
   "source": [
    "print (allrfm[orddate_index_absolute_min+400])"
   ]
  },
  {
   "cell_type": "code",
   "execution_count": null,
   "metadata": {
    "collapsed": true
   },
   "outputs": [],
   "source": [
    "import pickle\n",
    "import gzip\n",
    "pklhp = pickle.HIGHEST_PROTOCOL\n",
    "pickle.dump(allrfm, gzip.open('%s_allrfmincr_timeunit_%s.pkl%s' %\\\n",
    "                              (skusfname, timeunit, str(pklhp)), 'wb'))"
   ]
  }
 ],
 "metadata": {
  "kernelspec": {
   "display_name": "Python 3",
   "language": "python",
   "name": "python3"
  },
  "language_info": {
   "codemirror_mode": {
    "name": "ipython",
    "version": 3
   },
   "file_extension": ".py",
   "mimetype": "text/x-python",
   "name": "python",
   "nbconvert_exporter": "python",
   "pygments_lexer": "ipython3",
   "version": "3.6.1"
  }
 },
 "nbformat": 4,
 "nbformat_minor": 2
}
