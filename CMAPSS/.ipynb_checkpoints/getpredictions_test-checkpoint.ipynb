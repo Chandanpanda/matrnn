{
 "cells": [
  {
   "cell_type": "markdown",
   "metadata": {},
   "source": [
    "# Import modules and define parameters"
   ]
  },
  {
   "cell_type": "code",
   "execution_count": 1,
   "metadata": {
    "collapsed": true
   },
   "outputs": [],
   "source": [
    "import time\n",
    "import os\n",
    "import gzip\n",
    "import pickle\n",
    "import platform\n",
    "import numpy as np\n",
    "import pandas as pd\n",
    "\n",
    "pklhp = pickle.HIGHEST_PROTOCOL"
   ]
  },
  {
   "cell_type": "code",
   "execution_count": 2,
   "metadata": {},
   "outputs": [
    {
     "name": "stderr",
     "output_type": "stream",
     "text": [
      "Using TensorFlow backend.\n"
     ]
    }
   ],
   "source": [
    "from wbce_fitter import RecurrentWBCE"
   ]
  },
  {
   "cell_type": "code",
   "execution_count": 3,
   "metadata": {
    "collapsed": true
   },
   "outputs": [],
   "source": [
    "# database stuff\n",
    "# valid choices: day, week, month, quarter\n",
    "timeunit = 'week' "
   ]
  },
  {
   "cell_type": "code",
   "execution_count": 4,
   "metadata": {
    "collapsed": true
   },
   "outputs": [],
   "source": [
    "# meta settings\n",
    "workers = 4\n",
    "batch_size = 10*4096\n",
    "epochs = 1\n",
    "\n",
    "# names and stuff\n",
    "purpose = 'gprun'\n",
    "modelspecfname = 'spec05.py'"
   ]
  },
  {
   "cell_type": "code",
   "execution_count": 5,
   "metadata": {
    "collapsed": true
   },
   "outputs": [],
   "source": [
    "#skudex = None\n",
    "skudex = 1\n",
    "\n",
    "# db name\n",
    "skusfname = 'sodapopskus.txt'\n",
    "discardfirstn = 450 #250"
   ]
  },
  {
   "cell_type": "markdown",
   "metadata": {},
   "source": [
    "## Load Transaction Data"
   ]
  },
  {
   "cell_type": "code",
   "execution_count": 6,
   "metadata": {
    "collapsed": true
   },
   "outputs": [],
   "source": [
    "import funforsql_blagdon as ffs"
   ]
  },
  {
   "cell_type": "code",
   "execution_count": 7,
   "metadata": {
    "scrolled": false
   },
   "outputs": [
    {
     "ename": "OperationalError",
     "evalue": "could not connect to server: Operation timed out\n\tIs the server running on host \"prod-blagdon.c3dswjg84n8q.eu-west-1.redshift.amazonaws.com\" (52.210.174.154) and accepting\n\tTCP/IP connections on port 5439?\n",
     "output_type": "error",
     "traceback": [
      "\u001b[0;31m---------------------------------------------------------------------------\u001b[0m",
      "\u001b[0;31mOperationalError\u001b[0m                          Traceback (most recent call last)",
      "\u001b[0;32m<ipython-input-7-02f515b919ed>\u001b[0m in \u001b[0;36m<module>\u001b[0;34m()\u001b[0m\n\u001b[0;32m----> 1\u001b[0;31m \u001b[0mtransactions\u001b[0m \u001b[0;34m=\u001b[0m \u001b[0mffs\u001b[0m\u001b[0;34m.\u001b[0m\u001b[0mgettransactions_cached\u001b[0m\u001b[0;34m(\u001b[0m\u001b[0mskusfname\u001b[0m\u001b[0;34m,\u001b[0m \u001b[0mtimeunit\u001b[0m\u001b[0;34m=\u001b[0m\u001b[0mtimeunit\u001b[0m\u001b[0;34m)\u001b[0m\u001b[0;34m\u001b[0m\u001b[0m\n\u001b[0m\u001b[1;32m      2\u001b[0m \u001b[0mtransactions\u001b[0m \u001b[0;34m=\u001b[0m \u001b[0mtransactions\u001b[0m\u001b[0;34m.\u001b[0m\u001b[0mloc\u001b[0m\u001b[0;34m[\u001b[0m\u001b[0mtransactions\u001b[0m\u001b[0;34m[\u001b[0m\u001b[0;34m'ordqty'\u001b[0m\u001b[0;34m]\u001b[0m\u001b[0;34m>\u001b[0m\u001b[0;36m0\u001b[0m\u001b[0;34m,\u001b[0m\u001b[0;34m:\u001b[0m\u001b[0;34m]\u001b[0m\u001b[0;34m\u001b[0m\u001b[0m\n",
      "\u001b[0;32m/Users/tianlechen/Documents/githubstuff/Togepi/tianle-rxplenishment/gru_arrivaltimes/run_crusoely/blagdon_sodapop_8skus/funforsql_blagdon.py\u001b[0m in \u001b[0;36mgettransactions_cached\u001b[0;34m(skusfname, timeunit, verbose)\u001b[0m\n\u001b[1;32m     66\u001b[0m             \u001b[0mprint\u001b[0m \u001b[0;34m(\u001b[0m\u001b[0;34m'cachefname:\\n\"%s\"\\n...not found! get from source...'\u001b[0m \u001b[0;34m%\u001b[0m \u001b[0mcachefname\u001b[0m\u001b[0;34m)\u001b[0m\u001b[0;34m\u001b[0m\u001b[0m\n\u001b[1;32m     67\u001b[0m         transactions = gettransactions(open(skusfname).readline().strip(), \n\u001b[0;32m---> 68\u001b[0;31m                                        timeunit = timeunit)\n\u001b[0m\u001b[1;32m     69\u001b[0m         \u001b[0mpickle\u001b[0m\u001b[0;34m.\u001b[0m\u001b[0mdump\u001b[0m\u001b[0;34m(\u001b[0m\u001b[0mtransactions\u001b[0m\u001b[0;34m,\u001b[0m \u001b[0mgzip\u001b[0m\u001b[0;34m.\u001b[0m\u001b[0mopen\u001b[0m\u001b[0;34m(\u001b[0m\u001b[0mcachefname\u001b[0m\u001b[0;34m,\u001b[0m \u001b[0;34m'wb'\u001b[0m\u001b[0;34m)\u001b[0m\u001b[0;34m,\u001b[0m \u001b[0;34m-\u001b[0m\u001b[0;36m1\u001b[0m\u001b[0;34m)\u001b[0m\u001b[0;34m\u001b[0m\u001b[0m\n\u001b[1;32m     70\u001b[0m \u001b[0;34m\u001b[0m\u001b[0m\n",
      "\u001b[0;32m/Users/tianlechen/Documents/githubstuff/Togepi/tianle-rxplenishment/gru_arrivaltimes/run_crusoely/blagdon_sodapop_8skus/funforsql_blagdon.py\u001b[0m in \u001b[0;36mgettransactions\u001b[0;34m(sku_tupstr, timeunit)\u001b[0m\n\u001b[1;32m     28\u001b[0m                       \u001b[0;34m\"user='%s' \"\u001b[0m \u001b[0;34m%\u001b[0m \u001b[0musr\u001b[0m \u001b[0;34m+\u001b[0m\u001b[0;31m \u001b[0m\u001b[0;31m\\\u001b[0m\u001b[0;34m\u001b[0m\u001b[0m\n\u001b[1;32m     29\u001b[0m                       \u001b[0;34m\"host='prod-blagdon.c3dswjg84n8q.eu-west-1.redshift.amazonaws.com'\"\u001b[0m \u001b[0;34m+\u001b[0m\u001b[0;31m \u001b[0m\u001b[0;31m\\\u001b[0m\u001b[0;34m\u001b[0m\u001b[0m\n\u001b[0;32m---> 30\u001b[0;31m                       \"port=5439 password='%s'\" % pwd)\n\u001b[0m\u001b[1;32m     31\u001b[0m     \u001b[0;31m# query??!!\u001b[0m\u001b[0;34m\u001b[0m\u001b[0;34m\u001b[0m\u001b[0m\n\u001b[1;32m     32\u001b[0m     query = '''\n",
      "\u001b[0;32m/usr/local/lib/python3.6/site-packages/psycopg2/__init__.py\u001b[0m in \u001b[0;36mconnect\u001b[0;34m(dsn, connection_factory, cursor_factory, **kwargs)\u001b[0m\n\u001b[1;32m    128\u001b[0m \u001b[0;34m\u001b[0m\u001b[0m\n\u001b[1;32m    129\u001b[0m     \u001b[0mdsn\u001b[0m \u001b[0;34m=\u001b[0m \u001b[0m_ext\u001b[0m\u001b[0;34m.\u001b[0m\u001b[0mmake_dsn\u001b[0m\u001b[0;34m(\u001b[0m\u001b[0mdsn\u001b[0m\u001b[0;34m,\u001b[0m \u001b[0;34m**\u001b[0m\u001b[0mkwargs\u001b[0m\u001b[0;34m)\u001b[0m\u001b[0;34m\u001b[0m\u001b[0m\n\u001b[0;32m--> 130\u001b[0;31m     \u001b[0mconn\u001b[0m \u001b[0;34m=\u001b[0m \u001b[0m_connect\u001b[0m\u001b[0;34m(\u001b[0m\u001b[0mdsn\u001b[0m\u001b[0;34m,\u001b[0m \u001b[0mconnection_factory\u001b[0m\u001b[0;34m=\u001b[0m\u001b[0mconnection_factory\u001b[0m\u001b[0;34m,\u001b[0m \u001b[0;34m**\u001b[0m\u001b[0mkwasync\u001b[0m\u001b[0;34m)\u001b[0m\u001b[0;34m\u001b[0m\u001b[0m\n\u001b[0m\u001b[1;32m    131\u001b[0m     \u001b[0;32mif\u001b[0m \u001b[0mcursor_factory\u001b[0m \u001b[0;32mis\u001b[0m \u001b[0;32mnot\u001b[0m \u001b[0;32mNone\u001b[0m\u001b[0;34m:\u001b[0m\u001b[0;34m\u001b[0m\u001b[0m\n\u001b[1;32m    132\u001b[0m         \u001b[0mconn\u001b[0m\u001b[0;34m.\u001b[0m\u001b[0mcursor_factory\u001b[0m \u001b[0;34m=\u001b[0m \u001b[0mcursor_factory\u001b[0m\u001b[0;34m\u001b[0m\u001b[0m\n",
      "\u001b[0;31mOperationalError\u001b[0m: could not connect to server: Operation timed out\n\tIs the server running on host \"prod-blagdon.c3dswjg84n8q.eu-west-1.redshift.amazonaws.com\" (52.210.174.154) and accepting\n\tTCP/IP connections on port 5439?\n"
     ]
    }
   ],
   "source": [
    "transactions = ffs.gettransactions_cached(skusfname, timeunit=timeunit)\n",
    "transactions = transactions.loc[transactions['ordqty']>0,:]"
   ]
  },
  {
   "cell_type": "code",
   "execution_count": null,
   "metadata": {
    "collapsed": true
   },
   "outputs": [],
   "source": [
    "import matplotlib.pyplot as plt\n",
    "\n",
    "def get_date_counts(obj):\n",
    "    orddate, subset = obj\n",
    "    return (orddate, len(subset))    \n",
    "\n",
    "groupedby_orddate = transactions.groupby('orddate_index')\n",
    "transactions_perorddate = np.array(list(map(get_date_counts, list(groupedby_orddate))))\n",
    "\n",
    "plt.plot(transactions_perorddate[:,0], transactions_perorddate[:,1])\n",
    "plt.show()"
   ]
  },
  {
   "cell_type": "code",
   "execution_count": null,
   "metadata": {
    "collapsed": true
   },
   "outputs": [],
   "source": [
    "def discardfirst(transactions, n):\n",
    "    dates = transactions.loc[:, 'orddate_index'] - n\n",
    "    transactions.loc[:, 'orddate_index'] = dates\n",
    "    return transactions.loc[dates>=0,:]\n",
    "\n",
    "transactions = discardfirst(transactions, discardfirstn)\n",
    "\n",
    "com, split, fin = ffs.gettimes(transactions)\n",
    "## note that com needs to be 0 since i didn't bother to account for the case where it isn't 0.\n",
    "print ('com:%i, split:%i, fin:%i' % (com, split, fin))\n",
    "\n",
    "transtrain = ffs.getdf_intimerange(transactions, com, split)\n",
    "transtest  = ffs.getdf_intimerange(transactions, split, fin)\n",
    "\n",
    "uniqueskus = np.sort(np.unique(transtrain.loc[:, 'product_sku']))"
   ]
  },
  {
   "cell_type": "markdown",
   "metadata": {},
   "source": [
    "## Modify source db type, subset transaction table if necessary"
   ]
  },
  {
   "cell_type": "code",
   "execution_count": null,
   "metadata": {
    "collapsed": true
   },
   "outputs": [],
   "source": [
    "useskus = uniqueskus\n",
    "if skudex is not None:\n",
    "    useskus = np.array([uniqueskus[skudex]])\n",
    "print (useskus)"
   ]
  },
  {
   "cell_type": "code",
   "execution_count": null,
   "metadata": {
    "collapsed": true
   },
   "outputs": [],
   "source": [
    "particularsku = ''\n",
    "if not (str(useskus) == str(uniqueskus)):\n",
    "    particularsku = str(useskus[0])\n",
    "    useobs = np.in1d(transtrain.loc[:,'product_sku'], useskus)\n",
    "    transtrain = transtrain.loc[useobs,:]\n",
    "    useobs = np.in1d(transtest.loc[:,'product_sku'], useskus)\n",
    "    transtest = transtest.loc[useobs,:]"
   ]
  },
  {
   "cell_type": "code",
   "execution_count": null,
   "metadata": {
    "collapsed": true
   },
   "outputs": [],
   "source": [
    "cids = ffs.getcustid(transtrain)"
   ]
  },
  {
   "cell_type": "code",
   "execution_count": null,
   "metadata": {
    "collapsed": true
   },
   "outputs": [],
   "source": [
    "nprods = len(useskus)\n",
    "nobs = len(cids)"
   ]
  },
  {
   "cell_type": "code",
   "execution_count": null,
   "metadata": {
    "collapsed": true
   },
   "outputs": [],
   "source": [
    "print ('len cids', len(cids))"
   ]
  },
  {
   "cell_type": "markdown",
   "metadata": {},
   "source": [
    "## Model Fitting!"
   ]
  },
  {
   "cell_type": "code",
   "execution_count": null,
   "metadata": {
    "collapsed": true
   },
   "outputs": [],
   "source": [
    "print (transtrain.head())"
   ]
  },
  {
   "cell_type": "code",
   "execution_count": null,
   "metadata": {
    "collapsed": true
   },
   "outputs": [],
   "source": [
    "# evdetails is pandas dataframe with columns ['id', 'event_time', 'event_type']\n",
    "d = {'id':         transtrain['custid'], \n",
    "     'event_time': transtrain['orddate_index'], \n",
    "     'event_type': transtrain['product_sku']}\n",
    "evdetails = pd.DataFrame(d)\n",
    "print (evdetails.head())"
   ]
  },
  {
   "cell_type": "code",
   "execution_count": null,
   "metadata": {
    "collapsed": true,
    "scrolled": false
   },
   "outputs": [],
   "source": [
    "model = RecurrentWBCE(evdetails, \n",
    "                      modelspecfname, \n",
    "                      seqlen = split-com+1, \n",
    "                      batch_size = batch_size,\n",
    "                      workers = workers,\n",
    "                      dbidentifier = skusfname+particularsku)"
   ]
  },
  {
   "cell_type": "code",
   "execution_count": null,
   "metadata": {
    "collapsed": true
   },
   "outputs": [],
   "source": [
    "print ('xf shape: %s' % str(model.datginny[0][0].shape))\n",
    "print ('ytrue shape: %s' % str(model.datginny[0][1].shape))"
   ]
  },
  {
   "cell_type": "code",
   "execution_count": null,
   "metadata": {
    "collapsed": true,
    "scrolled": false
   },
   "outputs": [],
   "source": [
    "model.fit(lr=.01, epochs=epochs)"
   ]
  },
  {
   "cell_type": "markdown",
   "metadata": {},
   "source": [
    "## Get Metric and Truth"
   ]
  },
  {
   "cell_type": "code",
   "execution_count": null,
   "metadata": {
    "collapsed": true
   },
   "outputs": [],
   "source": [
    "metric = model.predict(fin-split)"
   ]
  },
  {
   "cell_type": "code",
   "execution_count": null,
   "metadata": {
    "collapsed": true
   },
   "outputs": [],
   "source": [
    "nprods = len(useskus)\n",
    "nobs = len(cids)\n",
    "\n",
    "truth = np.empty((nobs, nprods, 1))\n",
    "for prod in np.arange(nprods):\n",
    "    sku = useskus[prod]\n",
    "    relevant = transtest.loc[:, 'product_sku'] == sku\n",
    "    truthtemp = np.in1d(cids, ffs.getcustid(transtest.loc[relevant,:]))\n",
    "    truth[:, prod, :] = truthtemp.reshape((nobs, 1))"
   ]
  },
  {
   "cell_type": "code",
   "execution_count": null,
   "metadata": {
    "collapsed": true
   },
   "outputs": [],
   "source": [
    "from evaluate import roceval\n",
    "dump = roceval(truth.reshape(nobs*nprods), metric.reshape(nobs*nprods))"
   ]
  },
  {
   "cell_type": "markdown",
   "metadata": {},
   "source": [
    "### Format and save..."
   ]
  },
  {
   "cell_type": "code",
   "execution_count": null,
   "metadata": {
    "collapsed": true
   },
   "outputs": [],
   "source": [
    "validationdf=pd.DataFrame(index=cids)\n",
    "skudex=0\n",
    "for sku in useskus:\n",
    "    skuname = str(useskus[skudex])\n",
    "    validationdf['truth' +skuname]=pd.Series(truth [:,skudex,0], index=cids)\n",
    "    validationdf['metric'+skuname]=pd.Series(metric[:,skudex,0], index=cids)\n",
    "    skudex+=1\n",
    "print (validationdf.head(10))\n",
    "pickle.dump(validationdf, \n",
    "            gzip.open(skusfname+particularsku+'_'+modelspecfname+'_eval.pkl'+str(pklhp), 'wb'), \n",
    "            -1)"
   ]
  }
 ],
 "metadata": {
  "kernelspec": {
   "display_name": "Python 3",
   "language": "python",
   "name": "python3"
  },
  "language_info": {
   "codemirror_mode": {
    "name": "ipython",
    "version": 3
   },
   "file_extension": ".py",
   "mimetype": "text/x-python",
   "name": "python",
   "nbconvert_exporter": "python",
   "pygments_lexer": "ipython3",
   "version": "3.6.1"
  }
 },
 "nbformat": 4,
 "nbformat_minor": 2
}
