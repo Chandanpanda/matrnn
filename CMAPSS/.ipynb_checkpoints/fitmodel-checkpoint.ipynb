{
 "cells": [
  {
   "cell_type": "code",
   "execution_count": 1,
   "metadata": {},
   "outputs": [],
   "source": [
    "import os\n",
    "import gzip\n",
    "import pickle\n",
    "import scipy\n",
    "\n",
    "import numpy as np\n",
    "import pandas as pd\n",
    "#import psycopg2 as pg"
   ]
  },
  {
   "cell_type": "code",
   "execution_count": 2,
   "metadata": {},
   "outputs": [
    {
     "name": "stdout",
     "output_type": "stream",
     "text": [
      "/Users/tianlechen/Dropbox/2018-05-07_Paper-ICDM/frozen-kdd-post-phm08/CMAPSSmwtrnn\n"
     ]
    }
   ],
   "source": [
    "cwd = os.getcwd()\n",
    "print (cwd)"
   ]
  },
  {
   "cell_type": "code",
   "execution_count": 3,
   "metadata": {},
   "outputs": [],
   "source": [
    "testing = True"
   ]
  },
  {
   "cell_type": "code",
   "execution_count": 4,
   "metadata": {},
   "outputs": [],
   "source": [
    "# d, w = 2, 128\n",
    "epochs = 500"
   ]
  },
  {
   "cell_type": "code",
   "execution_count": 5,
   "metadata": {},
   "outputs": [
    {
     "name": "stdout",
     "output_type": "stream",
     "text": [
      "-----TESTING!!!-----\n"
     ]
    }
   ],
   "source": [
    "if testing:\n",
    "    print ('-----TESTING!!!-----')\n",
    "    d, w = 1, 16\n",
    "    epochs = 10"
   ]
  },
  {
   "cell_type": "code",
   "execution_count": 6,
   "metadata": {},
   "outputs": [
    {
     "name": "stdout",
     "output_type": "stream",
     "text": [
      "d:1, w:16, epochs:10\n"
     ]
    }
   ],
   "source": [
    "print ('d:%i, w:%i, epochs:%i' % (d, w, epochs))"
   ]
  },
  {
   "cell_type": "code",
   "execution_count": 7,
   "metadata": {},
   "outputs": [],
   "source": [
    "mtrain = pickle.load(gzip.open('mlocaltrain.pkl', 'rb'))"
   ]
  },
  {
   "cell_type": "code",
   "execution_count": 8,
   "metadata": {},
   "outputs": [
    {
     "data": {
      "text/plain": [
       "(709, 544, 28)"
      ]
     },
     "execution_count": 8,
     "metadata": {},
     "output_type": "execute_result"
    }
   ],
   "source": [
    "mtrain.shape"
   ]
  },
  {
   "cell_type": "code",
   "execution_count": 9,
   "metadata": {},
   "outputs": [
    {
     "name": "stdout",
     "output_type": "stream",
     "text": [
      "-----TESTING!!!-----\n",
      "mtrain obs0:\n",
      " [[ -1.  -1.  -1.  -1.]\n",
      " [ -1.  -1.  -1.  -1.]\n",
      " [ -1.  -1.  -1.  -1.]\n",
      " ...\n",
      " [190.   2.   1.   1.]\n",
      " [191.   1.   1.   1.]\n",
      " [192.   0.   1.   1.]]\n",
      "masking status obs0:\n",
      " [ True  True  True  True  True  True  True  True  True  True  True  True\n",
      "  True  True  True  True  True  True  True  True  True  True  True  True\n",
      "  True  True  True  True  True  True  True  True  True  True  True  True\n",
      "  True  True  True  True  True  True  True  True  True  True  True  True\n",
      "  True  True  True  True  True  True  True  True  True  True  True  True\n",
      "  True  True  True  True  True  True  True  True  True  True  True  True\n",
      "  True  True  True  True  True  True  True  True  True  True  True  True\n",
      "  True  True  True  True  True  True  True  True  True  True  True  True\n",
      "  True  True  True  True  True  True  True  True  True  True  True  True\n",
      "  True  True  True  True  True  True  True  True  True  True  True  True\n",
      "  True  True  True  True  True  True  True  True  True  True  True  True\n",
      "  True  True  True  True  True  True  True  True  True  True  True  True\n",
      "  True  True  True  True  True  True  True  True  True  True  True  True\n",
      "  True  True  True  True  True  True  True  True  True  True  True  True\n",
      "  True  True  True  True  True  True  True  True  True  True  True  True\n",
      "  True  True  True  True  True  True  True  True  True  True  True  True\n",
      "  True  True  True  True  True  True  True  True  True  True  True  True\n",
      "  True  True  True  True  True  True  True  True  True  True  True  True\n",
      "  True  True  True  True  True  True  True  True  True  True  True  True\n",
      "  True  True  True  True  True  True  True  True  True  True  True  True\n",
      "  True  True  True  True  True  True  True  True  True  True  True  True\n",
      "  True  True  True  True  True  True  True  True  True  True  True  True\n",
      "  True  True  True  True  True  True  True  True  True  True  True  True\n",
      "  True  True  True  True  True  True  True  True  True  True  True  True\n",
      "  True  True  True  True  True  True  True  True  True  True  True  True\n",
      "  True  True  True  True  True  True  True  True  True  True  True  True\n",
      "  True  True  True  True  True  True  True  True  True  True  True  True\n",
      "  True  True  True  True  True  True  True  True  True  True  True  True\n",
      "  True  True  True  True  True  True  True  True  True  True  True  True\n",
      "  True  True  True  True False False False False False False False False\n",
      " False False False False False False False False False False False False\n",
      " False False False False False False False False False False False False\n",
      " False False False False False False False False False False False False\n",
      " False False False False False False False False False False False False\n",
      " False False False False False False False False False False False False\n",
      " False False False False False False False False False False False False\n",
      " False False False False False False False False False False False False\n",
      " False False False False False False False False False False False False\n",
      " False False False False False False False False False False False False\n",
      " False False False False False False False False False False False False\n",
      " False False False False False False False False False False False False\n",
      " False False False False False False False False False False False False\n",
      " False False False False False False False False False False False False\n",
      " False False False False False False False False False False False False\n",
      " False False False False False False False False False False False False\n",
      " False False False False]\n"
     ]
    }
   ],
   "source": [
    "if testing:\n",
    "    print ('-----TESTING!!!-----')\n",
    "    print ('mtrain obs0:\\n', mtrain[0,:,:4])\n",
    "    print ('masking status obs0:\\n', np.all(mtrain==-1., axis=2)[0,...])\n",
    "    #print ('mtrain obs4:\\n', mtrain[4,:,:4])\n",
    "    #print ('masking status obs4:\\n', np.all(mtrain==-1., axis=2)[4,...])"
   ]
  },
  {
   "cell_type": "code",
   "execution_count": 10,
   "metadata": {},
   "outputs": [],
   "source": [
    "np.savetxt('_temp_mtrain_obs0.txt', mtrain[0,:,:], fmt='%6.2f')"
   ]
  },
  {
   "cell_type": "code",
   "execution_count": 11,
   "metadata": {},
   "outputs": [],
   "source": [
    "def split(m):\n",
    "    nobs, nseq, nvar = m.shape\n",
    "    # (tse, tte, unc, pcs)\n",
    "    # indices at [1,2] are tte, unc \n",
    "    x = m[:, :, np.delete(np.arange(nvar), [1,2])]\n",
    "    y = m[:, :, :4].reshape((nobs, nseq, 1, 4))\n",
    "    y[y<0] = 0\n",
    "    return x, y"
   ]
  },
  {
   "cell_type": "code",
   "execution_count": 12,
   "metadata": {},
   "outputs": [],
   "source": [
    "xtrain, ytrain = split(mtrain)"
   ]
  },
  {
   "cell_type": "code",
   "execution_count": 13,
   "metadata": {},
   "outputs": [
    {
     "name": "stdout",
     "output_type": "stream",
     "text": [
      "-----TESTING!!!-----\n",
      "xtrain.shape: (709, 544, 26)\n",
      "ytrain.shape: (709, 544, 1, 4)\n",
      "xtrain obs0:\n",
      "\n",
      " [[-1.00000000e+00 -1.00000000e+00 -1.00000000e+00 ... -1.00000000e+00\n",
      "  -1.00000000e+00 -1.00000000e+00]\n",
      " [-1.00000000e+00 -1.00000000e+00 -1.00000000e+00 ... -1.00000000e+00\n",
      "  -1.00000000e+00 -1.00000000e+00]\n",
      " [-1.00000000e+00 -1.00000000e+00 -1.00000000e+00 ... -1.00000000e+00\n",
      "  -1.00000000e+00 -1.00000000e+00]\n",
      " ...\n",
      " [ 1.90000000e+02  1.00000000e+00  1.42800363e-04 ...  1.00000000e+00\n",
      "   9.52909519e-01  9.50780379e-01]\n",
      " [ 1.91000000e+02  1.00000000e+00  2.07060526e-04 ...  1.00000000e+00\n",
      "   9.51564077e-01  9.54236343e-01]\n",
      " [ 1.92000000e+02  1.00000000e+00  2.28480580e-04 ...  1.00000000e+00\n",
      "   9.52573158e-01  9.45061315e-01]]\n",
      "ytrain obs0:\n",
      "\n",
      " [[[  0.   0.   0.   0.]]\n",
      "\n",
      " [[  0.   0.   0.   0.]]\n",
      "\n",
      " [[  0.   0.   0.   0.]]\n",
      "\n",
      " ...\n",
      "\n",
      " [[190.   2.   1.   1.]]\n",
      "\n",
      " [[191.   1.   1.   1.]]\n",
      "\n",
      " [[192.   0.   1.   1.]]]\n",
      "xtrain obs4:\n",
      "\n",
      " [[-1.00000000e+00 -1.00000000e+00 -1.00000000e+00 ... -1.00000000e+00\n",
      "  -1.00000000e+00 -1.00000000e+00]\n",
      " [-1.00000000e+00 -1.00000000e+00 -1.00000000e+00 ... -1.00000000e+00\n",
      "  -1.00000000e+00 -1.00000000e+00]\n",
      " [-1.00000000e+00 -1.00000000e+00 -1.00000000e+00 ... -1.00000000e+00\n",
      "  -1.00000000e+00 -1.00000000e+00]\n",
      " ...\n",
      " [ 2.67000000e+02  1.00000000e+00  2.49900635e-04 ...  1.00000000e+00\n",
      "   9.52909519e-01  9.50172798e-01]\n",
      " [ 2.68000000e+02  1.00000000e+00  2.85600725e-04 ...  1.00000000e+00\n",
      "   9.53918601e-01  9.53595318e-01]\n",
      " [ 2.69000000e+02  1.00000000e+00  2.59420659e-04 ...  1.00000000e+00\n",
      "   9.51564077e-01  9.48667781e-01]]\n",
      "ytrain obs4:\n",
      "\n",
      " [[[  0.   0.   0.   0.]]\n",
      "\n",
      " [[  0.   0.   0.   0.]]\n",
      "\n",
      " [[  0.   0.   0.   0.]]\n",
      "\n",
      " ...\n",
      "\n",
      " [[267.   2.   1.   1.]]\n",
      "\n",
      " [[268.   1.   1.   1.]]\n",
      "\n",
      " [[269.   0.   1.   1.]]]\n"
     ]
    }
   ],
   "source": [
    "if testing:\n",
    "    print ('-----TESTING!!!-----')\n",
    "    print ('xtrain.shape:', xtrain.shape)\n",
    "    print ('ytrain.shape:', ytrain.shape)\n",
    "    print ('xtrain obs0:\\n\\n', xtrain[0,])\n",
    "    print ('ytrain obs0:\\n\\n', ytrain[0,])\n",
    "    print ('xtrain obs4:\\n\\n', xtrain[4,])\n",
    "    print ('ytrain obs4:\\n\\n', ytrain[4,])"
   ]
  },
  {
   "cell_type": "code",
   "execution_count": 14,
   "metadata": {},
   "outputs": [
    {
     "data": {
      "text/plain": [
       "<Figure size 1200x1200 with 4 Axes>"
      ]
     },
     "metadata": {},
     "output_type": "display_data"
    }
   ],
   "source": [
    "if testing:\n",
    "    \n",
    "    import matplotlib.pyplot as plt\n",
    "    \n",
    "    fig, ax = plt.subplots(nrows=4, sharex=True, figsize=(12,12))\n",
    "    ax[0].plot(xtrain[0, :, 0])\n",
    "    ax[1].plot(xtrain[0, :, 1])\n",
    "    ax[2].plot(xtrain[0, :, 2])\n",
    "    ax[3].plot(xtrain[0, :, 3])\n",
    "    \n",
    "    plt.show()"
   ]
  },
  {
   "cell_type": "code",
   "execution_count": 15,
   "metadata": {},
   "outputs": [
    {
     "data": {
      "image/png": "[encoded data removed]",
      "text/plain": [
       "<Figure size 864x864 with 4 Axes>"
      ]
     },
     "metadata": {},
     "output_type": "display_data"
    }
   ],
   "source": [
    "if testing:\n",
    "    \n",
    "    import matplotlib.pyplot as plt\n",
    "    \n",
    "    fig, ax = plt.subplots(nrows=4, sharex=True, figsize=(12,12))\n",
    "    ax[0].plot(xtrain[4, :, 0])\n",
    "    ax[1].plot(xtrain[4, :, 1])\n",
    "    ax[2].plot(xtrain[4, :, 2])\n",
    "    ax[3].plot(xtrain[4, :, 3])\n",
    "    \n",
    "    plt.show()"
   ]
  },
  {
   "cell_type": "code",
   "execution_count": 16,
   "metadata": {},
   "outputs": [
    {
     "data": {
      "image/png": "[encoded data removed]",
      "text/plain": [
       "<Figure size 864x864 with 4 Axes>"
      ]
     },
     "metadata": {},
     "output_type": "display_data"
    }
   ],
   "source": [
    "if testing:\n",
    "    \n",
    "    #import matplotlib.pyplot as plt\n",
    "    \n",
    "    fig, ax = plt.subplots(nrows=4, sharex=True, figsize=(12,12))\n",
    "    ax[0].plot(ytrain[0, :, 0, 0])\n",
    "    ax[1].plot(ytrain[0, :, 0, 1])\n",
    "    ax[2].plot(ytrain[0, :, 0, 2])\n",
    "    ax[3].plot(ytrain[0, :, 0, 3])\n",
    "    \n",
    "    plt.show()"
   ]
  },
  {
   "cell_type": "code",
   "execution_count": 17,
   "metadata": {},
   "outputs": [
    {
     "data": {
      "image/png": "[encoded data removed]",
      "text/plain": [
       "<Figure size 864x864 with 4 Axes>"
      ]
     },
     "metadata": {},
     "output_type": "display_data"
    }
   ],
   "source": [
    "if testing:\n",
    "    \n",
    "    #import matplotlib.pyplot as plt\n",
    "    \n",
    "    fig, ax = plt.subplots(nrows=4, sharex=True, figsize=(12,12))\n",
    "    ax[0].plot(ytrain[4, :, 0, 0])\n",
    "    ax[1].plot(ytrain[4, :, 0, 1])\n",
    "    ax[2].plot(ytrain[4, :, 0, 2])\n",
    "    ax[3].plot(ytrain[4, :, 0, 3])\n",
    "    \n",
    "    plt.show()"
   ]
  },
  {
   "cell_type": "code",
   "execution_count": 18,
   "metadata": {},
   "outputs": [
    {
     "name": "stdout",
     "output_type": "stream",
     "text": [
      "-----TESTING!!!-----\n",
      "all time to occur:\n",
      " [192. 287. 179. 189. 269. 188. 259. 150. 201. 222. 240. 170. 163. 180.\n",
      " 207. 209. 276. 195. 158. 234. 195. 202. 168. 147. 230. 199. 156. 165.\n",
      " 163. 194. 234. 191. 200. 195. 181. 158. 170. 194. 128. 188. 216. 196.\n",
      " 207. 192. 158. 256. 214. 231. 215. 198. 213. 213. 195. 257. 193. 275.\n",
      " 137. 147. 231. 172. 185. 180. 174. 283. 153. 202. 313. 199. 362. 137.\n",
      " 208. 213. 213. 166. 229. 210. 154. 231. 199. 185. 240. 214. 293. 267.\n",
      " 188. 278. 178. 213. 217. 154. 135. 341. 155. 258. 283. 336. 202. 156.\n",
      " 185. 200. 149. 269. 206. 235. 154. 175. 174. 151. 199. 184. 271. 249.\n",
      " 227. 193. 209. 154. 180. 209. 163. 154. 189. 192. 211. 191. 205. 187.\n",
      " 176. 200. 151. 166. 343. 281. 195. 205. 196. 203. 210. 177. 214. 193.\n",
      " 262. 221. 211. 205. 151. 201. 246. 239. 168. 222. 293. 174. 148. 199.\n",
      " 159. 163. 140. 162. 194. 177. 218. 184. 168. 282. 206. 170. 145. 185.\n",
      " 136. 156. 194. 196. 239. 158. 231. 244. 185. 161. 181. 221. 288. 200.\n",
      " 170. 259. 347. 190. 170. 365. 188. 188. 245. 188. 189. 306. 198. 208.\n",
      " 145. 167. 202. 212. 211. 164. 280. 228. 303. 272. 145. 156. 220. 221.\n",
      " 200. 378. 232. 203. 206. 207. 177. 344. 174. 129. 210. 185. 226. 267.\n",
      " 168. 199. 256. 303. 202. 182. 280. 183. 159. 247. 294. 160. 148. 200.\n",
      " 194. 214. 163. 208. 166. 224. 251. 263. 207. 279. 289. 222. 177. 184.\n",
      " 292. 193. 226. 299. 237. 308. 241. 212. 224. 194. 203. 249. 165. 204.\n",
      " 232. 217. 185. 179. 258. 174. 151. 193. 202. 164. 181. 148. 181. 297.\n",
      " 255. 200. 207. 171. 162. 194. 168. 148. 209. 257. 219. 133. 172. 148.\n",
      " 190. 239. 154. 205. 219. 227. 191. 197. 269. 237. 198. 221. 184. 150.\n",
      " 201. 184. 214. 149. 196. 146. 226. 229. 162. 237. 156. 234. 178. 195.\n",
      " 218. 174. 156. 178. 184. 262. 176. 186. 144. 242. 190. 159. 183. 239.\n",
      " 209. 156. 263. 266. 183. 273. 230. 128. 253. 194. 197. 234. 202. 184.\n",
      " 266. 135. 149. 260. 340. 163. 309. 143. 205. 316. 259. 253. 222. 272.\n",
      " 213. 278. 424. 267. 406. 481. 197. 170. 185. 207. 202. 344. 312. 447.\n",
      " 229. 338. 220. 192. 196. 494. 193. 243. 320. 200. 223. 218. 183. 189.\n",
      " 231. 459. 231. 324. 324. 201. 288. 188. 295. 193. 321. 180. 205. 204.\n",
      " 269. 174. 256. 161. 190. 222. 164. 194. 525. 195. 215. 178. 299. 190.\n",
      " 199. 246. 231. 195. 234. 165. 263. 201. 170. 172. 409. 232. 215. 193.\n",
      " 259. 153. 255. 221. 166. 147. 347. 285. 181. 226. 266. 341. 172. 322.\n",
      " 207. 181. 156. 158. 171. 392. 166. 491. 275. 307. 145. 152. 321. 299.\n",
      " 307. 274. 193. 331. 221. 230. 334. 354. 301. 272. 256. 253. 224. 184.\n",
      " 151. 343. 210. 245. 227. 211. 280. 186. 150. 297. 163. 202. 247. 297.\n",
      " 263. 219. 201. 276. 221. 143. 388. 177. 202. 206. 279. 280. 223. 203.\n",
      " 177. 321. 375. 322. 446. 172. 285. 357. 304. 197. 344. 347. 193. 281.\n",
      " 177. 218. 244. 297. 170. 184. 351. 175. 167. 163. 226. 185. 312. 308.\n",
      " 181. 244. 230. 152. 148. 250. 218. 305. 187. 197. 184. 159. 277. 232.\n",
      " 259. 388. 168. 212. 354. 191. 196. 249. 239. 270. 262. 245. 167. 261.\n",
      " 260. 194. 224. 203. 170. 266. 183. 304. 325. 186. 297. 340. 184. 161.\n",
      " 131. 344. 342. 543. 187. 177. 194. 174. 226. 170. 239. 302. 235. 248.\n",
      " 190. 166. 370. 254. 489. 247. 149. 205. 225. 178. 251. 298. 199. 209.\n",
      " 184. 297. 228. 303. 234. 193. 261. 149. 351. 262. 168. 203. 295. 139.\n",
      " 298. 399. 288. 187. 303. 313. 285. 380. 255. 269. 263. 196. 227. 161.\n",
      " 399. 273. 457. 370. 156. 180. 242. 170. 435. 344. 134. 205. 190. 379.\n",
      " 259. 163. 273. 254. 239. 381. 297. 190. 197. 145. 159. 174. 170. 164.\n",
      " 176. 225. 378. 241. 324. 211. 242. 263. 379. 290. 161. 167. 146. 229.\n",
      " 197. 128. 361. 244. 200. 236. 190. 202. 274. 202. 247. 268. 418. 194.\n",
      " 287. 279. 280. 250. 194. 273. 289. 207. 199. 225. 212. 187. 365. 149.\n",
      " 332. 222. 327. 267. 205. 161. 211. 184. 255.]\n",
      "iniscale: 226.17630465444287\n"
     ]
    }
   ],
   "source": [
    "# compute iniscale taking mean time to occurence (i.e. the tse at time-1)\n",
    "iniscale = ytrain[:, -1, 0, 0]\n",
    "if testing:\n",
    "    print ('-----TESTING!!!-----')\n",
    "    print ('all time to occur:\\n', iniscale)\n",
    "\n",
    "iniscale = np.mean(iniscale)\n",
    "print ('iniscale:', iniscale)"
   ]
  },
  {
   "cell_type": "markdown",
   "metadata": {
    "collapsed": true
   },
   "source": [
    "# Training"
   ]
  },
  {
   "cell_type": "code",
   "execution_count": 19,
   "metadata": {},
   "outputs": [
    {
     "name": "stderr",
     "output_type": "stream",
     "text": [
      "/usr/local/lib/python3.6/site-packages/h5py/__init__.py:36: FutureWarning: Conversion of the second argument of issubdtype from `float` to `np.floating` is deprecated. In future, it will be treated as `np.float64 == np.dtype(float).type`.\n",
      "  from ._conv import register_converters as _register_converters\n",
      "Using TensorFlow backend.\n"
     ]
    }
   ],
   "source": [
    "import wbce_fitter as fitter"
   ]
  },
  {
   "cell_type": "code",
   "execution_count": 20,
   "metadata": {},
   "outputs": [],
   "source": [
    "model = fitter.RecurrentWBCE(modelspec_tuple=(d, w))"
   ]
  },
  {
   "cell_type": "code",
   "execution_count": 21,
   "metadata": {
    "scrolled": false
   },
   "outputs": [
    {
     "name": "stdout",
     "output_type": "stream",
     "text": [
      "_________________________________________________________________\n",
      "Layer (type)                 Output Shape              Param #   \n",
      "=================================================================\n",
      "masking_1 (Masking)          (None, None, 26)          0         \n",
      "_________________________________________________________________\n",
      "lstm_1 (LSTM)                (None, None, 16)          2752      \n",
      "_________________________________________________________________\n",
      "dense_1 (Dense)              (None, None, 2)           34        \n",
      "_________________________________________________________________\n",
      "time_distributed_1 (TimeDist (None, None, 1, 2)        0         \n",
      "_________________________________________________________________\n",
      "lambda_1 (Lambda)            (None, None, 1, 2)        0         \n",
      "=================================================================\n",
      "Total params: 2,786\n",
      "Trainable params: 2,786\n",
      "Non-trainable params: 0\n",
      "_________________________________________________________________\n",
      "\n",
      "checking if nans in data...\n",
      "nans in xtrain:\n",
      " (array([], dtype=int64), array([], dtype=int64), array([], dtype=int64))\n",
      "nans in ytrain:\n",
      " (array([], dtype=int64), array([], dtype=int64), array([], dtype=int64), array([], dtype=int64))\n",
      "\n",
      "checking if activation is correct...\n",
      "activation shape: (709, 544, 1, 2)\n",
      "\n",
      "checking if loss evaluation is valid...\n",
      "709/709 [==============================] - 2s 3ms/step\n",
      "overall loss: 2.510321798714663\n",
      "doing training...\n",
      "Train on 638 samples, validate on 71 samples\n",
      "Epoch 1/10\n",
      " - 9s - loss: 2.3339 - val_loss: 2.4666\n",
      "Epoch 2/10\n",
      " - 9s - loss: 2.2848 - val_loss: 2.4592\n",
      "Epoch 3/10\n",
      " - 9s - loss: 2.2750 - val_loss: 2.4629\n",
      "Epoch 4/10\n",
      " - 9s - loss: 2.2742 - val_loss: 2.4603\n",
      "Epoch 5/10\n",
      " - 8s - loss: 2.2690 - val_loss: 2.4595\n",
      "Epoch 6/10\n",
      " - 8s - loss: 2.2709 - val_loss: 2.4695\n",
      "Epoch 7/10\n",
      " - 8s - loss: 2.2723 - val_loss: 2.4592\n",
      "Epoch 8/10\n",
      " - 8s - loss: 2.2699 - val_loss: 2.4670\n",
      "Epoch 9/10\n",
      " - 9s - loss: 2.2731 - val_loss: 2.4594\n",
      "Epoch 10/10\n",
      " - 9s - loss: 2.2703 - val_loss: 2.4780\n",
      "training done in: 88.37052202224731\n"
     ]
    }
   ],
   "source": [
    "model.fit(xtrain, ytrain, iniscale=iniscale, epochs=epochs)"
   ]
  },
  {
   "cell_type": "markdown",
   "metadata": {},
   "source": [
    "# Testing"
   ]
  },
  {
   "cell_type": "code",
   "execution_count": 22,
   "metadata": {},
   "outputs": [],
   "source": [
    "mtest = pickle.load(gzip.open('mlocaltest.pkl', 'rb'))"
   ]
  },
  {
   "cell_type": "code",
   "execution_count": 23,
   "metadata": {},
   "outputs": [
    {
     "data": {
      "text/plain": [
       "array([[-1.00000000e+00, -1.00000000e+00, -1.00000000e+00, ...,\n",
       "        -1.00000000e+00, -1.00000000e+00, -1.00000000e+00],\n",
       "       [-1.00000000e+00, -1.00000000e+00, -1.00000000e+00, ...,\n",
       "        -1.00000000e+00, -1.00000000e+00, -1.00000000e+00],\n",
       "       [-1.00000000e+00, -1.00000000e+00, -1.00000000e+00, ...,\n",
       "        -1.00000000e+00, -1.00000000e+00, -1.00000000e+00],\n",
       "       ...,\n",
       "       [ 2.90000000e+01,  2.00000000e+00,  0.00000000e+00, ...,\n",
       "         8.30761927e-04,  1.00000000e+00,  1.00000000e+00],\n",
       "       [ 3.00000000e+01,  1.00000000e+00,  0.00000000e+00, ...,\n",
       "         1.18680275e-03,  1.00000000e+00,  1.00000000e+00],\n",
       "       [ 3.10000000e+01,  0.00000000e+00,  0.00000000e+00, ...,\n",
       "         1.18680275e-03,  1.00000000e+00,  1.00000000e+00]])"
      ]
     },
     "execution_count": 23,
     "metadata": {},
     "output_type": "execute_result"
    }
   ],
   "source": [
    "mtest[0, :, :8]"
   ]
  },
  {
   "cell_type": "code",
   "execution_count": 24,
   "metadata": {},
   "outputs": [
    {
     "data": {
      "text/plain": [
       "array([[-1.        , -1.        , -1.        , ..., -1.        ,\n",
       "        -1.        , -1.        ],\n",
       "       [-1.        , -1.        , -1.        , ..., -1.        ,\n",
       "        -1.        , -1.        ],\n",
       "       [-1.        , -1.        , -1.        , ..., -1.        ,\n",
       "        -1.        , -1.        ],\n",
       "       ...,\n",
       "       [ 0.64149216,  0.09101216,  1.        , ...,  1.        ,\n",
       "         0.97073663,  0.96720178],\n",
       "       [ 0.64519802,  0.08750773,  1.        , ...,  1.        ,\n",
       "         0.97309115,  0.969699  ],\n",
       "       [ 0.63475019,  0.08455301,  1.        , ...,  1.        ,\n",
       "         0.96367306,  0.96681717]])"
      ]
     },
     "execution_count": 24,
     "metadata": {},
     "output_type": "execute_result"
    }
   ],
   "source": [
    "mtest[0, :, -8:]"
   ]
  },
  {
   "cell_type": "code",
   "execution_count": 25,
   "metadata": {},
   "outputs": [
    {
     "name": "stdout",
     "output_type": "stream",
     "text": [
      "[ True  True  True  True  True  True  True  True  True  True  True  True\n",
      "  True  True  True  True  True  True  True  True  True  True  True  True\n",
      "  True  True  True  True  True  True  True  True  True  True  True  True\n",
      "  True  True  True  True  True  True  True  True  True  True  True  True\n",
      "  True  True  True  True  True  True  True  True  True  True  True  True\n",
      "  True  True  True  True  True  True  True  True  True  True  True  True\n",
      "  True  True  True  True  True  True  True  True  True  True  True  True\n",
      "  True  True  True  True  True  True  True  True  True  True  True  True\n",
      "  True  True  True  True  True  True  True  True  True  True  True  True\n",
      "  True  True  True  True  True  True  True  True  True  True  True  True\n",
      "  True  True  True  True  True  True  True  True  True  True  True  True\n",
      "  True  True  True  True  True  True  True  True  True  True  True  True\n",
      "  True  True  True  True  True  True  True  True  True  True  True  True\n",
      "  True  True  True  True  True  True  True  True  True  True  True  True\n",
      "  True  True  True  True  True  True  True  True  True  True  True  True\n",
      "  True  True  True  True  True  True  True  True  True  True  True  True\n",
      "  True  True  True  True  True  True  True  True  True  True  True  True\n",
      "  True  True  True  True  True  True  True  True  True  True  True  True\n",
      "  True  True  True  True  True  True  True  True  True  True  True  True\n",
      "  True  True  True  True  True  True  True  True  True  True  True  True\n",
      "  True  True  True  True  True  True  True  True  True  True  True  True\n",
      "  True  True  True  True  True  True  True  True  True  True  True  True\n",
      "  True  True  True  True  True  True  True  True  True  True  True  True\n",
      "  True  True  True  True  True  True  True  True  True  True  True  True\n",
      "  True  True  True  True  True  True  True  True  True  True  True  True\n",
      "  True  True  True  True  True  True  True  True  True  True  True  True\n",
      "  True  True  True  True  True  True  True  True  True  True  True  True\n",
      "  True  True  True  True  True  True  True  True  True  True  True  True\n",
      "  True  True  True  True  True  True  True  True  True  True  True  True\n",
      "  True  True  True  True  True  True  True  True  True  True  True  True\n",
      "  True  True  True  True  True  True  True  True  True  True  True  True\n",
      "  True  True  True  True  True  True  True  True  True  True  True  True\n",
      "  True  True  True  True  True  True  True  True  True  True  True  True\n",
      "  True  True  True  True  True  True  True  True  True  True  True  True\n",
      "  True  True  True  True  True  True  True  True  True  True  True  True\n",
      "  True  True  True  True  True  True  True  True  True  True  True  True\n",
      "  True  True  True  True  True  True  True  True  True  True  True  True\n",
      "  True  True  True  True  True  True  True  True  True  True  True  True\n",
      " False False False False False False False False False False False False\n",
      " False False False False False False False False False False False False\n",
      " False False False False False False False]\n"
     ]
    }
   ],
   "source": [
    "print (np.all(mtest==-1., axis=2)[0,...])"
   ]
  },
  {
   "cell_type": "code",
   "execution_count": 26,
   "metadata": {},
   "outputs": [],
   "source": [
    "xtest, ytest = split(mtest)"
   ]
  },
  {
   "cell_type": "code",
   "execution_count": 27,
   "metadata": {
    "scrolled": false
   },
   "outputs": [
    {
     "data": {
      "image/png": "[encoded data removed]",
      "text/plain": [
       "<Figure size 864x864 with 4 Axes>"
      ]
     },
     "metadata": {},
     "output_type": "display_data"
    }
   ],
   "source": [
    "if testing:\n",
    "    \n",
    "    import matplotlib.pyplot as plt\n",
    "    \n",
    "    fig, ax = plt.subplots(nrows=4, sharex=True, figsize=(12,12))\n",
    "    ax[0].plot(xtest[4, :, 0])\n",
    "    ax[1].plot(xtest[4, :, 1])\n",
    "    ax[2].plot(xtest[4, :, 2])\n",
    "    ax[3].plot(xtest[4, :, 3])\n",
    "    \n",
    "    plt.show()"
   ]
  },
  {
   "cell_type": "code",
   "execution_count": 28,
   "metadata": {},
   "outputs": [
    {
     "data": {
      "image/png": "[encoded data removed]",
      "text/plain": [
       "<Figure size 864x864 with 4 Axes>"
      ]
     },
     "metadata": {},
     "output_type": "display_data"
    }
   ],
   "source": [
    "if testing:\n",
    "    \n",
    "    import matplotlib.pyplot as plt\n",
    "    \n",
    "    fig, ax = plt.subplots(nrows=4, sharex=True, figsize=(12,12))\n",
    "    ax[0].plot(ytest[4, :, 0, 0])\n",
    "    ax[1].plot(ytest[4, :, 0, 1])\n",
    "    ax[2].plot(ytest[4, :, 0, 2])\n",
    "    ax[3].plot(ytest[4, :, 0, 3])\n",
    "    \n",
    "    plt.show()"
   ]
  },
  {
   "cell_type": "code",
   "execution_count": 29,
   "metadata": {},
   "outputs": [
    {
     "name": "stdout",
     "output_type": "stream",
     "text": [
      "running model...\n"
     ]
    }
   ],
   "source": [
    "inferred = model.infer(xtest)"
   ]
  },
  {
   "cell_type": "code",
   "execution_count": 30,
   "metadata": {},
   "outputs": [],
   "source": [
    "inferred_obs0_fname = 'inferred_obs0_d' + str(d) + 'w' + str(w)"
   ]
  },
  {
   "cell_type": "code",
   "execution_count": 31,
   "metadata": {},
   "outputs": [],
   "source": [
    "np.savetxt(inferred_obs0_fname + '.txt', inferred[0,:,0,:], fmt='%6.2f')"
   ]
  },
  {
   "cell_type": "code",
   "execution_count": 32,
   "metadata": {},
   "outputs": [
    {
     "data": {
      "text/plain": [
       "(707, 487, 1, 2)"
      ]
     },
     "execution_count": 32,
     "metadata": {},
     "output_type": "execute_result"
    }
   ],
   "source": [
    "inferred.shape"
   ]
  },
  {
   "cell_type": "code",
   "execution_count": 33,
   "metadata": {},
   "outputs": [
    {
     "data": {
      "image/png": "[encoded data removed]",
      "text/plain": [
       "<Figure size 864x864 with 2 Axes>"
      ]
     },
     "metadata": {},
     "output_type": "display_data"
    }
   ],
   "source": [
    "if testing:\n",
    "    \n",
    "    import matplotlib.pyplot as plt\n",
    "    \n",
    "    fig, ax = plt.subplots(nrows=2, sharex=True, figsize=(12,12))\n",
    "    ax[0].plot(inferred[4, :, 0, 0])\n",
    "    ax[1].plot(inferred[4, :, 0, 1])\n",
    "    \n",
    "    plt.show()"
   ]
  },
  {
   "cell_type": "code",
   "execution_count": 34,
   "metadata": {},
   "outputs": [],
   "source": [
    "finalstate = inferred[:, -1, 0, :]"
   ]
  },
  {
   "cell_type": "code",
   "execution_count": 35,
   "metadata": {},
   "outputs": [],
   "source": [
    "finalstate_fname = 'finalstate_d' + str(d) + 'w' + str(w)"
   ]
  },
  {
   "cell_type": "code",
   "execution_count": 36,
   "metadata": {},
   "outputs": [],
   "source": [
    "pickle.dump(finalstate, gzip.open(finalstate_fname + '.pkl', 'wb'))"
   ]
  }
 ],
 "metadata": {
  "kernelspec": {
   "display_name": "Python 3",
   "language": "python",
   "name": "python3"
  },
  "language_info": {
   "codemirror_mode": {
    "name": "ipython",
    "version": 3
   },
   "file_extension": ".py",
   "mimetype": "text/x-python",
   "name": "python",
   "nbconvert_exporter": "python",
   "pygments_lexer": "ipython3",
   "version": "3.6.5"
  }
 },
 "nbformat": 4,
 "nbformat_minor": 2
}
